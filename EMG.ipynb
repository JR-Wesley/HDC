{
 "cells": [
  {
   "cell_type": "markdown",
   "metadata": {},
   "source": [
    "EMG_hand_gestures 中是利用 torchHD 的 model 对 EMG 手势识别进行判别的实验。"
   ]
  },
  {
   "cell_type": "code",
   "execution_count": null,
   "metadata": {},
   "outputs": [],
   "source": [
    "import torch\n",
    "import torch.nn.functional as F\n",
    "\n",
    "device = torch.device(\"cuda\" if torch.cuda.is_available() else \"cpu\")\n",
    "device"
   ]
  },
  {
   "cell_type": "code",
   "execution_count": null,
   "metadata": {},
   "outputs": [],
   "source": [
    "def item_memory(dim, number, datatype='bipolar'):\n",
    "    \"\"\"\n",
    "    Function\n",
    "    ===\n",
    "    Generate random vectors\n",
    "\n",
    "    Parameter\n",
    "    ---\n",
    "    Data type must be 'bipolar' by now so that the element is within {-1, 1}\n",
    "\n",
    "    Return\n",
    "    ---\n",
    "    A tensor with a size of (number, dim)\n",
    "    \"\"\"\n",
    "    # Function `randint` ranges from 0 to 2 (0 included, 2 not included). \n",
    "    table = torch.randint(low=0, high=2, size=(number, dim), dtype=torch.int8)\n",
    "\n",
    "    if datatype == 'bipolar':\n",
    "        table[table == 0] = -1\n",
    "    elif datatype == 'polar':\n",
    "        pass\n",
    "    else:\n",
    "        raise ValueError('Sorry, currently only supporting bipolar datatype.')\n",
    "    \n",
    "    return table"
   ]
  }
 ],
 "metadata": {
  "kernelspec": {
   "display_name": "hdc",
   "language": "python",
   "name": "python3"
  },
  "language_info": {
   "name": "python",
   "version": "3.12.7"
  }
 },
 "nbformat": 4,
 "nbformat_minor": 2
}
