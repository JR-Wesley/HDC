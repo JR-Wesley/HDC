{
 "cells": [
  {
   "cell_type": "code",
   "execution_count": 1,
   "metadata": {},
   "outputs": [
    {
     "data": {
      "text/plain": [
       "device(type='cuda')"
      ]
     },
     "execution_count": 1,
     "metadata": {},
     "output_type": "execute_result"
    }
   ],
   "source": [
    "import torch\n",
    "import torch.nn.functional as F\n",
    "\n",
    "dim = 1024\n",
    "datatype = 'bipolar'\n",
    "operation = 'MAP'\n",
    "\n",
    "device = torch.device(\"cuda\" if torch.cuda.is_available() else \"cpu\")\n",
    "device"
   ]
  },
  {
   "cell_type": "markdown",
   "metadata": {},
   "source": [
    "# 随机向量产生\n",
    "## 1. 任意的 HV"
   ]
  },
  {
   "cell_type": "code",
   "execution_count": 2,
   "metadata": {},
   "outputs": [],
   "source": [
    "# TODO\n",
    "\n",
    "def CA90(vec):\n",
    "    \"\"\"\n",
    "    Function\n",
    "    ===\n",
    "    CA90 rule. Next = (vec << 1) ^ (vec >> 1) where input vectors are cylic shift.\n",
    "    \"\"\"\n",
    "    vec_left = torch.roll(vec, shifts=-1, dims=0)\n",
    "    vec_right = torch.roll(vec, shifts=1, dims=0)   \n",
    "\n",
    "    return vec_left ^ vec_right"
   ]
  },
  {
   "cell_type": "code",
   "execution_count": 3,
   "metadata": {},
   "outputs": [
    {
     "data": {
      "text/plain": [
       "(tensor([[-1, -1,  1,  ..., -1, -1, -1],\n",
       "         [-1, -1,  1,  ..., -1, -1, -1],\n",
       "         [-1,  1,  1,  ..., -1,  1, -1]], dtype=torch.int8),\n",
       " tensor([[ 0, -2,  0,  ...,  0, -2,  0],\n",
       "         [ 0, -2,  0,  ...,  0, -2,  0],\n",
       "         [ 0,  0,  0,  ...,  0,  0,  0]], dtype=torch.int8))"
      ]
     },
     "execution_count": 3,
     "metadata": {},
     "output_type": "execute_result"
    }
   ],
   "source": [
    "def item_memory(dim, number, datatype='bipolar'):\n",
    "    \"\"\"\n",
    "    Function\n",
    "    ===\n",
    "    Generate random vectors\n",
    "\n",
    "    Parameter\n",
    "    ---\n",
    "    Data type must be 'bipolar' by now so that the element is within {-1, 1}\n",
    "\n",
    "    Return\n",
    "    ---\n",
    "    A tensor with a size of (number, dim)\n",
    "    \"\"\"\n",
    "    # Function `randint` ranges from 0 to 2 (0 included, 2 not included). \n",
    "    table = torch.randint(low=0, high=2, size=(number, dim), dtype=torch.int8)\n",
    "\n",
    "    if datatype == 'bipolar':\n",
    "        table[table == 0] = -1\n",
    "    elif datatype == 'polar':\n",
    "        pass\n",
    "    else:\n",
    "        raise ValueError('Sorry, currently only supporting bipolar datatype.')\n",
    "    \n",
    "    return table\n",
    "\n",
    "IM_3 = item_memory(dim=dim, number=3, datatype=datatype)\n",
    "IM_3, CA90(IM_3)"
   ]
  },
  {
   "cell_type": "markdown",
   "metadata": {},
   "source": [
    "## 2. 连续级别的 HV CiM\n",
    "\n",
    "## 3. 循环的 circlar\n"
   ]
  },
  {
   "cell_type": "markdown",
   "metadata": {},
   "source": [
    "# MAP 操作\n",
    "对于 {-1, 1}，硬件二值逻辑表示为 {0 -> -1, 1 -> 1}\n",
    "\n",
    "- bind\n",
    "\n",
    "- bundle\n",
    "\n",
    "- permutation\n",
    "\n",
    "\n"
   ]
  },
  {
   "cell_type": "code",
   "execution_count": 4,
   "metadata": {},
   "outputs": [],
   "source": [
    "# TODO\n",
    "def bind(hv1, hv2):\n",
    "    \"\"\"\n",
    "    Function\n",
    "    ===\n",
    "    Element-wise operation.\n",
    "    For {-1, 1}, bind is *.\n",
    "    For {0, 1}, bind is XOR.\n",
    "\n",
    "    \"\"\"    \n",
    "    return hv1 * hv2\n",
    "\n",
    "def bundle(hv1, hv2):\n",
    "    \"\"\"\n",
    "    Function\n",
    "    ===\n",
    "    Bundle the HDvectors together using element-wise addition.\n",
    "    if the sum >= 1, set to 1; else set to 0\n",
    "\n",
    "    \"\"\"\n",
    "    #return hv1 + hv2\n",
    "    return ((hv1 + hv2) > 0).int() * 2 - 1\n",
    "\n",
    "def permutation(hv):\n",
    "    \"\"\"\n",
    "    Function\n",
    "    ===\n",
    "    Permutation the input vec.\n",
    "    Right shift by 1 element.\n",
    "    \"\"\"\n",
    "    return hv.roll(hv, shifts=1, dims=0)"
   ]
  },
  {
   "cell_type": "markdown",
   "metadata": {},
   "source": [
    "# 相似性度量\n",
    "\n",
    "Hamming & cosine"
   ]
  },
  {
   "cell_type": "code",
   "execution_count": 5,
   "metadata": {},
   "outputs": [],
   "source": [
    "def similarity(hv1, hv2, stype='cos'):\n",
    "    if stype == 'cos':\n",
    "        return F.cosine_similarity(hv1.float(), hv2.float(), dim=0)\n",
    "    elif stype == 'ham':\n",
    "        ham = hv1 ^ hv2\n",
    "        return torch.sum(ham != 0)"
   ]
  },
  {
   "cell_type": "code",
   "execution_count": 6,
   "metadata": {},
   "outputs": [],
   "source": [
    "def inter_cos_simi(hvs1, hvs2, stype='cos'):\n",
    "    \"\"\"\n",
    "    Function\n",
    "    ===\n",
    "    First expand the shape (n, dim) to (n, 1, dim) and (m, dim) to (1, m, dim) so that they can broadcast to compare.\n",
    "    Then calculate the similarity in the last dimension(dim=2)\n",
    "    \n",
    "    Parameter\n",
    "    ---\n",
    "    (n, dim) & (m, dim) vector\n",
    "\n",
    "    Return\n",
    "    ---\n",
    "    matrix (n, m) representing the similarity between the n and m HVs.\n",
    "    \"\"\"\n",
    "    similarity_matrix = F.cosine_similarity(hvs1.float().unsqueeze(dim=1),\n",
    "                                            hvs2.float().unsqueeze(dim=0), dim=2)\n",
    "\n",
    "    return similarity_matrix\n",
    "\n",
    "simi = inter_cos_simi(hvs1=IM_3, hvs2=IM_3)"
   ]
  },
  {
   "cell_type": "markdown",
   "metadata": {},
   "source": [
    "热力图表示相似度"
   ]
  },
  {
   "cell_type": "code",
   "execution_count": 7,
   "metadata": {},
   "outputs": [
    {
     "data": {
      "image/png": "[encoded data removed]",
      "text/plain": [
       "<Figure size 500x500 with 2 Axes>"
      ]
     },
     "metadata": {},
     "output_type": "display_data"
    }
   ],
   "source": [
    "import matplotlib.pyplot as plt\n",
    "\n",
    "def plt_simi(simi_mat, size=(5, 5)):\n",
    "    \"\"\"\n",
    "    Function\n",
    "    ===\n",
    "    Plot the heatmap of the input matrix\n",
    "    \n",
    "    Paramter\n",
    "    ---\n",
    "    simi_mat: a (n, m) matrix\n",
    "    \"\"\"\n",
    "    # 创建一个图形窗口\n",
    "    fig, axs = plt.subplots(1, 1, figsize=size)\n",
    "\n",
    "    # 绘制第一个热力图\n",
    "    cax1 = axs.imshow(simi_mat, origin = 'lower', cmap = 'viridis')  # 'hot'是颜色映射，可以根据需要选择其他颜色映射\n",
    "    axs.set_title('random')\n",
    "\n",
    "\n",
    "    # 创建一个空的子图用于颜色条\n",
    "    cax = fig.add_axes([0.12, 0.95, 0.76, 0.05])  # [left, bottom, width, height]\n",
    "    # 添加颜色条\n",
    "    cbar = fig.colorbar(cax1, cax = cax, orientation='horizontal')\n",
    "\n",
    "    # 设置颜色条的位置\n",
    "    cbar.set_label('Colorbar Label')\n",
    "\n",
    "    # 调整子图之间的间距，为颜色条腾出空间\n",
    "    plt.subplots_adjust(top = 0.8)\n",
    "    plt.title(\"the distance between hypervectors\")\n",
    "    plt.show()\n",
    "\n",
    "plt_simi(simi_mat=simi)"
   ]
  },
  {
   "cell_type": "markdown",
   "metadata": {},
   "source": [
    "## 两种相似度量的关系\n",
    "\n",
    "证明对于 bipolar {-1, 1} 来说，Hamming 和 cos 有线性关系\n",
    "$$\n",
    "cos(H_1, H_2) = 1 - 2/D_{hv} Hamming(H_1, H_2)\n",
    "$$"
   ]
  },
  {
   "cell_type": "code",
   "execution_count": 8,
   "metadata": {},
   "outputs": [
    {
     "data": {
      "text/plain": [
       "(-0.015625, -0.015625, 520)"
      ]
     },
     "execution_count": 8,
     "metadata": {},
     "output_type": "execute_result"
    }
   ],
   "source": [
    "vech1 = torch.randint(low=0, high=2, size=(dim, )) * 2 - 1\n",
    "vech2 = torch.randint(low=0, high=2, size=(dim, )) * 2 - 1\n",
    "\n",
    "cos_simi = similarity(vech1, vech2, stype='cos')\n",
    "ham_simi = similarity(vech1, vech2, stype='ham')\n",
    "\n",
    "cos_simi.item(), 1 - 2/dim * ham_simi.item(), ham_simi.item()"
   ]
  },
  {
   "cell_type": "markdown",
   "metadata": {},
   "source": [
    "# 字母表的例子\n"
   ]
  },
  {
   "cell_type": "code",
   "execution_count": 9,
   "metadata": {},
   "outputs": [],
   "source": [
    "import string\n",
    "\n",
    "# create a list of the alphabet of lowercase letters\n",
    "lower_alpha_concepts = list(string.ascii_lowercase)\n",
    "lower_alpha_IM = item_memory(dim=dim, number=len(lower_alpha_concepts))"
   ]
  },
  {
   "cell_type": "code",
   "execution_count": 10,
   "metadata": {},
   "outputs": [
    {
     "data": {
      "text/plain": [
       "(['a', 'p', 'p', 'l', 'e'], 5)"
      ]
     },
     "execution_count": 10,
     "metadata": {},
     "output_type": "execute_result"
    }
   ],
   "source": [
    "apple = \"apple\"\n",
    "set_apple = list(apple)\n",
    "set_apple, len(set_apple)"
   ]
  },
  {
   "cell_type": "code",
   "execution_count": 11,
   "metadata": {},
   "outputs": [],
   "source": [
    "def fetch_word(word, IM, concepts):\n",
    "    \"\"\"\n",
    "    Function\n",
    "    ===\n",
    "    Get the correspnding HVs of the letters within the word in given item memory.\n",
    "\n",
    "    Parameter\n",
    "    ---\n",
    "    alphabet_IM: the IM for alphbet(lower or upper case)\n",
    "    word: the word needed to be projected to the IM\n",
    "\n",
    "    Return\n",
    "    ---\n",
    "    A list of HVs representing the word.\n",
    "    \"\"\"\n",
    "    # make sure all the letter in the word is in the alphabet\n",
    "    if all(letter in concepts for letter in word):\n",
    "        indices = [concepts.index(letter) for letter in word]\n",
    "        return IM[indices]\n",
    "    else:\n",
    "        raise ValueError(\"Input word contains invalid characters\")\n",
    "\n",
    "hv_letters_apple = fetch_word(word=set_apple, IM=lower_alpha_IM, concepts=lower_alpha_concepts)"
   ]
  },
  {
   "cell_type": "markdown",
   "metadata": {},
   "source": [
    "## 单词的相似度\n",
    "首先展示内部各个字母相对于整个字母表，明显不同字母是正交的。\n",
    "然后将整个单词的 HV 相加，只有对应字母的相似度偏高。"
   ]
  },
  {
   "cell_type": "code",
   "execution_count": 37,
   "metadata": {},
   "outputs": [
    {
     "data": {
      "image/png": "[encoded data removed]",
      "text/plain": [
       "<Figure size 500x250 with 2 Axes>"
      ]
     },
     "metadata": {},
     "output_type": "display_data"
    },
    {
     "name": "stdout",
     "output_type": "stream",
     "text": [
      "y axis: 0-25 a-z\n",
      "x axis: the seperative letters from bottom to top\n"
     ]
    }
   ],
   "source": [
    "letters_simi = inter_cos_simi(hvs1=hv_letters_apple, hvs2=lower_alpha_IM)\n",
    "plt_simi(simi_mat=letters_simi, size=(5, 2.5))\n",
    "print(\"y axis: 0-25 a-z\")\n",
    "print(\"x axis: the seperative letters from bottom to top\")"
   ]
  },
  {
   "cell_type": "markdown",
   "metadata": {},
   "source": [
    "The above calculation is the seperative similarity of hvs to the IM.\n",
    "The below adds the letters' hvs together."
   ]
  },
  {
   "cell_type": "markdown",
   "metadata": {},
   "source": [
    "## 不同字母相加\n",
    "这里仅把不同字母 HV 相加，即 bundle 操作。"
   ]
  },
  {
   "cell_type": "code",
   "execution_count": 15,
   "metadata": {},
   "outputs": [
    {
     "data": {
      "text/plain": [
       "(torch.Size([1, 1024]),\n",
       " tensor([[ 1, -3, -1,  ...,  5, -5, -1]]),\n",
       " tensor([[ 1, -3, -1,  ...,  5, -5, -1]]))"
      ]
     },
     "execution_count": 15,
     "metadata": {},
     "output_type": "execute_result"
    }
   ],
   "source": [
    "# repeat(n, m)\n",
    "# repeat the tensor by n times in dim=0, by m times in dim=1\n",
    "hv_word_apple = hv_letters_apple.sum(dim=0, keepdim=True)\n",
    "hv_word_apple.shape, hv_word_apple, hv_word_apple"
   ]
  },
  {
   "cell_type": "code",
   "execution_count": 25,
   "metadata": {},
   "outputs": [],
   "source": [
    "def plt_simi_bar(x_labels, y_values, bar_title, bar_size=(6.5, 3), num_thr=0.3):\n",
    "    \"\"\"\n",
    "    Function\n",
    "    ===\n",
    "    Plot bar graph.\n",
    "\n",
    "    Parameter\n",
    "    ---\n",
    "\n",
    "    \"\"\"\n",
    "    plt.figure(figsize=bar_size)\n",
    "    plt.bar(x_labels, y_values, color=\"gold\")\n",
    "\n",
    "    for i, value in enumerate(y_values):\n",
    "        if value > num_thr:\n",
    "            plt.text(i, value, f\"{value:.2f}\", ha='center')\n",
    "\n",
    "    plt.title(bar_title)\n",
    "    plt.xlabel('Categories')\n",
    "    plt.ylabel('Values')\n",
    "    plt.show()"
   ]
  },
  {
   "cell_type": "code",
   "execution_count": 26,
   "metadata": {},
   "outputs": [
    {
     "data": {
      "image/png": "[encoded data removed]",
      "text/plain": [
       "<Figure size 650x300 with 1 Axes>"
      ]
     },
     "metadata": {},
     "output_type": "display_data"
    },
    {
     "name": "stdout",
     "output_type": "stream",
     "text": [
      "y axis: 0-25 a-z\n",
      "x axis: the whole word\n",
      "The distance of the letter within 'apple' is shorter than the other letters in the alphabet.\n"
     ]
    }
   ],
   "source": [
    "# squeeze() remove all the dims that equals 1\n",
    "# squeeze(dim) specifies the dim to be removed\n",
    "simi_apple = inter_cos_simi(hvs1=hv_word_apple, hvs2=lower_alpha_IM)\n",
    "plt_simi_bar(x_labels=lower_alpha_concepts, y_values=simi_apple.squeeze(dim=0),\n",
    "             bar_title=\"Similarity of the whole word to the alphabet\", bar_size=(6.5, 3))\n",
    "print(\"y axis: 0-25 a-z\")\n",
    "print(\"x axis: the whole word\")\n",
    "print(\"The distance of the letter within 'apple' is shorter than the other letters in the alphabet.\")"
   ]
  },
  {
   "cell_type": "markdown",
   "metadata": {},
   "source": [
    "对上面 bundle 即求和之后的向量进行量化。上面的元素取值是{-1, 1}，计算 5 个和，阈值取 0。\n",
    "\n",
    "这个例子中，量化后对最出现了 2 次的字母 'p' 影响不大，但是其他字母的相似度下降较多。"
   ]
  },
  {
   "cell_type": "code",
   "execution_count": 39,
   "metadata": {},
   "outputs": [],
   "source": [
    "def quant(hv, thre):\n",
    "    return torch.where(hv > thre, torch.ones_like(hv),\n",
    "                                 torch.full_like(hv, -1))"
   ]
  },
  {
   "cell_type": "code",
   "execution_count": 40,
   "metadata": {},
   "outputs": [
    {
     "data": {
      "image/png": "[encoded data removed]",
      "text/plain": [
       "<Figure size 650x300 with 1 Axes>"
      ]
     },
     "metadata": {},
     "output_type": "display_data"
    },
    {
     "name": "stdout",
     "output_type": "stream",
     "text": [
      "y axis: 0-25 a-z\n",
      "x axis: the whole word\n",
      "The distance of the letter within 'apple' is shorter than the other letters in the alphabet.\n"
     ]
    }
   ],
   "source": [
    "threshold = 0\n",
    "hv_word_apple_quat = quant(hv_word_apple, thre=threshold)\n",
    "\n",
    "simi_quat_apple = inter_cos_simi(hvs1=hv_word_apple_quat, hvs2=lower_alpha_IM)\n",
    "plt_simi_bar(x_labels=lower_alpha_concepts, y_values=simi_quat_apple.squeeze(dim=0),\n",
    "             bar_title=\"Similarity of the whole word to the alphabet\", bar_size=(6.5, 3), num_thr=0.2)\n",
    "print(\"y axis: 0-25 a-z\")\n",
    "print(\"x axis: the whole word\")\n",
    "print(\"The distance of the letter within 'apple' is shorter than the other letters in the alphabet.\")"
   ]
  },
  {
   "cell_type": "markdown",
   "metadata": {},
   "source": [
    "## 基于 sequence\n",
    "按顺序，每个字母都会依次移位，然后相加(bundle)；相乘(bind)。\n",
    "只有首字母的相似度被保留。"
   ]
  },
  {
   "cell_type": "code",
   "execution_count": null,
   "metadata": {},
   "outputs": [],
   "source": [
    "def sequence(word, IM, concepts, operation='bind'):\n",
    "    \"\"\"\n",
    "    Function\n",
    "    ===\n",
    "    Get the representations of the sequence. \n",
    "    Fetch the corresponding vectors of concepts in item memory (num, dim).\n",
    "    Roatate them by the sequence index.\n",
    "\n",
    "    Parameter\n",
    "    ---\n",
    "\n",
    "    Return\n",
    "    ---\n",
    "    \"\"\"\n",
    "    letters = fetch_word(word=word, IM=IM, concepts=concepts)\n",
    "    # for each one-dimension tensor, rotate by index.\n",
    "    letters = torch.stack([torch.roll(x, shifts=i) for i, x in enumerate(letters)])\n",
    "\n",
    "    if operation == 'bundle':\n",
    "        return letters.sum(dim=0, keepdim=True)\n",
    "    elif operation == 'bind':\n",
    "        return torch.prod(letters, dim=0, keepdim=True)\n",
    "    else:\n",
    "        raise ValueError(\"not supported operation(bindle, bundle)\")\n"
   ]
  },
  {
   "cell_type": "markdown",
   "metadata": {},
   "source": [
    "### sequence 区分了顺序\n",
    "a-b-c 和 a-c-b 是不同的。这里用 bind 操作\n",
    "$$\n",
    "\\begin{align}\n",
    "V_1 &= \\rho \\rho A * \\rho B * C \\\\\n",
    "V_2 &= \\rho \\rho A * \\rho C * B \\\\\n",
    "cos(V_1, V_2) &\\approx 0\n",
    "\\end{align}\n",
    "$$"
   ]
  },
  {
   "cell_type": "code",
   "execution_count": null,
   "metadata": {},
   "outputs": [
    {
     "data": {
      "image/png": "[encoded data removed]",
      "text/plain": [
       "<Figure size 500x500 with 2 Axes>"
      ]
     },
     "metadata": {},
     "output_type": "display_data"
    },
    {
     "name": "stdout",
     "output_type": "stream",
     "text": [
      "y axis: random sequence of 'abc'\n",
      "x axis: random sequence of 'abc'\n"
     ]
    }
   ],
   "source": [
    "seq_abc = [\"abc\", \"acb\", \"bac\", \"bca\", \"cab\", \"cba\"]\n",
    "hv_abc = torch.zeros(size=(len(seq_abc), dim))\n",
    "\n",
    "for i, seq in enumerate(seq_abc):\n",
    "    hv_abc[i] = sequence(word=list(seq), IM=lower_alpha_IM, \\\n",
    "                  concepts=lower_alpha_concepts, operation='bind')\n",
    "\n",
    "abc_simi = inter_cos_simi(hv_abc, hv_abc)\n",
    "plt_simi(simi_mat=abc_simi, size=(5, 5))\n",
    "print(\"y axis: random sequence of 'abc'\")\n",
    "print(\"x axis: random sequence of 'abc'\")"
   ]
  },
  {
   "cell_type": "markdown",
   "metadata": {},
   "source": [
    "通过 bundle 创建 sequence 即 (a + b' + c'' + ...)，显示其和字母表的相似度。同时可以通过移位，查找单词中不同位置的字母和字母表的相似度。\n",
    "和上面不同，上面是直接相加(a + b + c + ...)。所以可以看到，不同位置的 'p' 相似度也有不同。\n",
    "\n",
    "对这个例子量化，相似度有稍微下降，从 0.42 -> 0.38。"
   ]
  },
  {
   "cell_type": "code",
   "execution_count": 44,
   "metadata": {},
   "outputs": [
    {
     "data": {
      "image/png": "[encoded data removed]",
      "text/plain": [
       "<Figure size 650x300 with 1 Axes>"
      ]
     },
     "metadata": {},
     "output_type": "display_data"
    },
    {
     "name": "stdout",
     "output_type": "stream",
     "text": [
      "x axis: 0-25 a-z\n",
      "y axis: the sequence\n",
      "The sequence is 'a -> p -> p -> l -> e'.\n",
      "The distance of the letter 'a' is shorter in the alphabet.\n"
     ]
    }
   ],
   "source": [
    "hv_seq = sequence(word=set_apple, IM=lower_alpha_IM, \\\n",
    "                  concepts=lower_alpha_concepts, operation='bundle')\n",
    "\n",
    "threshold = 0\n",
    "# hv_seq = quant(hv_seq, thre=threshold)\n",
    "\n",
    "seq_simi_apple = inter_cos_simi(hvs1=hv_seq, hvs2=lower_alpha_IM)\n",
    "plt_simi_bar(x_labels=lower_alpha_concepts, y_values=seq_simi_apple.squeeze(dim=0),\n",
    "             bar_title=\"Similarity of the sequence to the alphabet\", bar_size=(6.5, 3))\n",
    "print(\"x axis: 0-25 a-z\")\n",
    "print(\"y axis: the sequence\")\n",
    "print(\"\"\"The sequence is 'a -> p -> p -> l -> e'.\n",
    "The distance of the letter 'a' is shorter in the alphabet.\"\"\")\n"
   ]
  },
  {
   "cell_type": "markdown",
   "metadata": {},
   "source": [
    "### 交互式查看 rotate 的变化\n",
    "\n",
    "- 定义函数：它接受一个或多个参数，并执行一些操作（比如绘图）。\n",
    "\n",
    "- 使用interact：指定要交互的参数名称和范围。\n",
    "\n",
    "- 创建交互式控件：interact会根据你提供的参数范围自动创建一个或多个控件（如滑块、下拉菜单等）。\n",
    "\n",
    "- 调用函数：当用户与控件交互时，interact会自动调用你的函数，并传递控件的值作为参数。"
   ]
  },
  {
   "cell_type": "code",
   "execution_count": 45,
   "metadata": {},
   "outputs": [],
   "source": [
    "def interact_plt_seq(rotate):\n",
    "      seq_simi = inter_cos_simi(hvs1=torch.roll(hv_seq, shifts=-rotate), hvs2=lower_alpha_IM)\n",
    "      plt_simi_bar(x_labels=lower_alpha_concepts, y_values=seq_simi.squeeze(dim=0),\n",
    "                  bar_title=\"Similarity of the sequence to the alphabet\", bar_size=(6.5, 3))\n",
    "      print(\"x axis: 0-25 a-z\")\n",
    "      print(f\"y axis: the sequence rotated by {rotate}\")\n",
    "      print(\"\"\"The sequence is 'a -> p -> p -> l -> e'.\n",
    "      The sequence is based on bundling.\"\"\")\n",
    "      print(f\"After rotating by {rotate}, the distance of the letter \"\\\n",
    "            f\"'{set_apple[rotate]}' is shorter in the alphabet.\")"
   ]
  },
  {
   "cell_type": "code",
   "execution_count": null,
   "metadata": {},
   "outputs": [
    {
     "data": {
      "application/vnd.jupyter.widget-view+json": {
       "model_id": "0740058e44264767b16ed92f21d8eb49",
       "version_major": 2,
       "version_minor": 0
      },
      "text/plain": [
       "interactive(children=(IntSlider(value=3, description='rotate', max=4), Output()), _dom_classes=('widget-intera…"
      ]
     },
     "metadata": {},
     "output_type": "display_data"
    }
   ],
   "source": [
    "from ipywidgets import interact\n",
    "import ipywidgets\n",
    "\n",
    "interact(interact_plt_seq, rotate=ipywidgets.IntSlider(min=0, max=len(set_apple)-1, step=1, value=3));"
   ]
  },
  {
   "cell_type": "markdown",
   "metadata": {},
   "source": [
    "# n-gram\n",
    "\n",
    "## 示例"
   ]
  },
  {
   "cell_type": "markdown",
   "metadata": {},
   "source": [
    "解释 n-gram 的方法:\n",
    "一串序列每$n_{gram}$个字母组成一个序列，然后获得$gram_{num} = len - n_{gram}+1$个序列，将所有序列相加。对于 tensor 的操作如下：\n",
    "\n",
    "$len = 4, n_{gram}=3$\n",
    "\n",
    "hv1, hv2, hv3, hv4\n",
    "\n",
    "hv2_r1, hv3_r1, hv4_r1, (hv1_r1)\n",
    "\n",
    "hv3_r2, hv4_r2, (hv1_r2, hv2_r2)\n",
    "\n",
    "|前 $gram_{num}$ 组合（以bundle 乘法）\n",
    "\n",
    "seq1, seq2"
   ]
  },
  {
   "cell_type": "code",
   "execution_count": 23,
   "metadata": {},
   "outputs": [
    {
     "data": {
      "text/plain": [
       "tensor([[[ 1,  2,  3],\n",
       "         [ 4,  5,  6],\n",
       "         [ 7,  8,  9],\n",
       "         [10, 11, 12]],\n",
       "\n",
       "        [[ 1,  2,  3],\n",
       "         [ 4,  5,  6],\n",
       "         [ 7,  8,  9],\n",
       "         [10, 11, 12]],\n",
       "\n",
       "        [[ 1,  2,  3],\n",
       "         [ 4,  5,  6],\n",
       "         [ 7,  8,  9],\n",
       "         [10, 11, 12]]])"
      ]
     },
     "execution_count": 23,
     "metadata": {},
     "output_type": "execute_result"
    }
   ],
   "source": [
    "import sys\n",
    "sys.path.insert(0, '/home/maria/py/dl/my_d2l')\n",
    "\n",
    "from my_package import timer\n",
    "timer = timer.Timer()\n",
    "timer.stop()\n",
    "\n",
    "hvs = torch.arange(1, 13).reshape(4, 3).repeat(3, 1, 1)\n",
    "hvs"
   ]
  },
  {
   "cell_type": "markdown",
   "metadata": {},
   "source": [
    "这两种 tensor 的实现方法效率无法区分，都可以使用"
   ]
  },
  {
   "cell_type": "code",
   "execution_count": 24,
   "metadata": {},
   "outputs": [
    {
     "name": "stdout",
     "output_type": "stream",
     "text": [
      "0.00025 sec\n",
      "0.00029 sec\n"
     ]
    },
    {
     "data": {
      "text/plain": [
       "True"
      ]
     },
     "execution_count": 24,
     "metadata": {},
     "output_type": "execute_result"
    }
   ],
   "source": [
    "aroll_hvs = torch.zeros_like(hvs)\n",
    "broll_hvs = torch.zeros_like(hvs)\n",
    "timer.start()\n",
    "for i, x in enumerate(hvs):\n",
    "        aroll_hvs[i] = torch.roll(x, shifts=(-i, i), dims=(0, 1))\n",
    "print(f'{timer.stop():.5f} sec')\n",
    "timer.start()\n",
    "broll_hvs = torch.stack([torch.roll(x, shifts=(-i, i), dims=(0, 1)) for i, x in enumerate(hvs)])\n",
    "print(f'{timer.stop():.5f} sec')\n",
    "torch.equal(aroll_hvs, broll_hvs)"
   ]
  },
  {
   "cell_type": "code",
   "execution_count": 25,
   "metadata": {},
   "outputs": [
    {
     "name": "stdout",
     "output_type": "stream",
     "text": [
      "This is the sequence of the first 3-gram: tensor([[ 48,  72, 105]]).\n",
      "It should equals to part of the next result.\n"
     ]
    }
   ],
   "source": [
    "one_n_gram = torch.stack([torch.roll(x, shifts=i) for i, x in \\\n",
    "                          enumerate(torch.arange(1, 10).reshape(3, 3))])\n",
    "print(f\"\"\"This is the sequence of the first 3-gram:\\\n",
    " {torch.prod(one_n_gram, dim=0, keepdim=True)}.\n",
    "It should equals to part of the next result.\"\"\")"
   ]
  },
  {
   "cell_type": "code",
   "execution_count": 26,
   "metadata": {},
   "outputs": [
    {
     "name": "stdout",
     "output_type": "stream",
     "text": [
      "tensor([[[ 1,  2,  3],\n",
      "         [ 4,  5,  6],\n",
      "         [ 7,  8,  9],\n",
      "         [10, 11, 12]],\n",
      "\n",
      "        [[ 6,  4,  5],\n",
      "         [ 9,  7,  8],\n",
      "         [12, 10, 11],\n",
      "         [ 3,  1,  2]],\n",
      "\n",
      "        [[ 8,  9,  7],\n",
      "         [11, 12, 10],\n",
      "         [ 2,  3,  1],\n",
      "         [ 5,  6,  4]]]) torch.Size([3, 4, 3])\n",
      "all posible n-gram: tensor([[ 48,  72, 105],\n",
      "        [396, 420, 480],\n",
      "        [168, 240,  99],\n",
      "        [150,  66,  96]])\n",
      "only sum up valid n-gram\n",
      "([0 : 2] contains index-0 not contains index 2):\n",
      "      tensor([444, 492, 585])\n"
     ]
    }
   ],
   "source": [
    "print(broll_hvs, broll_hvs.shape)\n",
    "all_grams = broll_hvs.prod(dim=0)\n",
    "print(f\"all posible n-gram: {all_grams}\")\n",
    "print(f\"\"\"only sum up valid n-gram\n",
    "([0 : 2] contains index-0 not contains index 2):\n",
    "      {all_grams[0 : 2].sum(dim=0)}\"\"\")"
   ]
  },
  {
   "cell_type": "markdown",
   "metadata": {},
   "source": [
    "n gram 在 NLP 的用法"
   ]
  },
  {
   "cell_type": "code",
   "execution_count": null,
   "metadata": {},
   "outputs": [
    {
     "name": "stdout",
     "output_type": "stream",
     "text": [
      "生成的3-grams如下：\n",
      "n grams example\n",
      "grams example e\n",
      "example e as\n",
      "e as dfsaf\n"
     ]
    }
   ],
   "source": [
    "def generate_ngrams(text, n):\n",
    "    \"\"\"\n",
    "    生成给定文本的n-grams。\n",
    "    :param text: 输入的文本字符串\n",
    "    :param n: n-gram的大小\n",
    "    :return: 生成的n-grams列表\n",
    "    \"\"\"\n",
    "    tokens = text.lower().split()\n",
    "    ngrams = []\n",
    "    max_index = len(tokens) - n + 1\n",
    "    for i in range(max_index):\n",
    "        gram = ' '.join(tokens[i:i+n])\n",
    "        ngrams.append(gram)\n",
    "    return ngrams\n",
    "\n",
    "# 示例使用\n",
    "text = \"n grams example e as dfsaf \"\n",
    "n = 3\n",
    "ngrams = generate_ngrams(text, n)\n",
    "print(f\"生成的{n}-grams如下：\")\n",
    "for ngram in ngrams:\n",
    "    print(ngram)"
   ]
  },
  {
   "cell_type": "markdown",
   "metadata": {},
   "source": [
    "## 完整实现"
   ]
  },
  {
   "cell_type": "code",
   "execution_count": 114,
   "metadata": {},
   "outputs": [],
   "source": [
    "def ngram(text, IM, concepts, n_gram=3):\n",
    "    \"\"\"\n",
    "    Function\n",
    "    ===\n",
    "    Representation of n-gram statistics\n",
    "    Fetch the HVs for the data, a (num, dim) tensor.\n",
    "    Expand to (n_gram, num, dim), and rotate by sequence. gram = num - n_gram + 1\n",
    "    Then add all to get all the n-gram HVs\n",
    "\n",
    "    Parameter\n",
    "    ---\n",
    "    item_memory: the item memory contains all the HVs for characters in `data`.\n",
    "    data: the input sentence\n",
    "    n_gram: sequence every n consecutive letters\n",
    "\n",
    "    Return\n",
    "    ---\n",
    "\n",
    "    \"\"\"\n",
    "    hv_data = fetch_word(word=text, IM=IM, concepts=concepts).repeat(n_gram, 1, 1)\n",
    "    hv_data = torch.stack([torch.roll(x, shifts=(-i, i), dims=(0, 1)) for i, x in enumerate(hv_data)])\n",
    "\n",
    "    # Go via all n-grams, bundle(multile consecutive n letters)\n",
    "    HDgram = hv_data.prod(dim=0)\n",
    "\n",
    "    # add together only the fisrt `gram_num` hvs\n",
    "    # 0, 1, ..., len(data) - 1\n",
    "    # 0 -> n_gram - 1\n",
    "    gram_num = len(text) - n_gram + 1\n",
    "    return HDgram[0 : gram_num].sum(dim=0, keepdim=True)"
   ]
  },
  {
   "cell_type": "markdown",
   "metadata": {},
   "source": [
    "### 功能验证\n",
    "这里验证，对于长度 n_gram 的序列，就是前面的 sequence 表示。\n",
    "验证，n-gram 就是子序列的和(bundle)。"
   ]
  },
  {
   "cell_type": "code",
   "execution_count": 110,
   "metadata": {},
   "outputs": [
    {
     "data": {
      "text/plain": [
       "tensor(True)"
      ]
     },
     "execution_count": 110,
     "metadata": {},
     "output_type": "execute_result"
    }
   ],
   "source": [
    "ahv_sent = sequence(word=list(\"abcd\"), IM=lower_alpha_IM, \\\n",
    "                    concepts=lower_alpha_concepts, operation='bind')\n",
    "bhv_sent = ngram(text=list(\"abcd\"), IM=lower_alpha_IM, \\\n",
    "                 concepts=lower_alpha_concepts, n_gram=4)\n",
    "(ahv_sent == bhv_sent).all()"
   ]
  },
  {
   "cell_type": "code",
   "execution_count": 111,
   "metadata": {},
   "outputs": [
    {
     "name": "stdout",
     "output_type": "stream",
     "text": [
      "tensor([[-0.0039]])\n"
     ]
    }
   ],
   "source": [
    "hv_sent1 = sequence(word=list(\"abc\"), IM=lower_alpha_IM, \\\n",
    "    concepts=lower_alpha_concepts, operation='bind')\n",
    "hv_sent2 = sequence(word=list(\"bcd\"), IM=lower_alpha_IM, \\\n",
    "    concepts=lower_alpha_concepts, operation='bind')\n",
    "\n",
    "print(inter_cos_simi(hvs1=hv_sent1, hvs2=hv_sent2))"
   ]
  },
  {
   "cell_type": "code",
   "execution_count": 115,
   "metadata": {},
   "outputs": [
    {
     "name": "stdout",
     "output_type": "stream",
     "text": [
      "tensor([[ 1, -1, -1,  ...,  1,  1,  1]])\n",
      "tensor([[-1,  1,  1,  ..., -1,  1, -1]])\n",
      "tensor(True)\n",
      "tensor(True)\n"
     ]
    },
    {
     "data": {
      "text/plain": [
       "True"
      ]
     },
     "execution_count": 115,
     "metadata": {},
     "output_type": "execute_result"
    }
   ],
   "source": [
    "sent1 = list(\"abcd\")\n",
    "hv_data = fetch_word(word=sent1, IM=lower_alpha_IM, concepts=lower_alpha_concepts).repeat(3, 1, 1)\n",
    "hv_data = torch.stack([torch.roll(x, shifts=(-i, i), dims=(0, 1)) for i, x in enumerate(hv_data)])\n",
    "HDgram = hv_data.prod(dim=0)\n",
    "print(hv_sent1)\n",
    "print(hv_sent2)\n",
    "print((HDgram[0] == hv_sent1).all())\n",
    "print((HDgram[1] == hv_sent2).all())\n",
    "# the\n",
    "s = ngram(text=list(\"abcd\"), IM=lower_alpha_IM, \\\n",
    "    concepts=lower_alpha_concepts)\n",
    "torch.equal(s, hv_sent1 + hv_sent2)\n"
   ]
  },
  {
   "cell_type": "markdown",
   "metadata": {},
   "source": [
    "## 字符串对比\n",
    "实验发现，有相似子字符串时，相似度会比较高；只有字符相同不一定相似；如果没有连续相同字符串时，相似度不高。"
   ]
  },
  {
   "cell_type": "code",
   "execution_count": 126,
   "metadata": {},
   "outputs": [
    {
     "name": "stdout",
     "output_type": "stream",
     "text": [
      "cos similarity between \"tothemoon\" and \"totheloon\" is:\n",
      "        0.5636947751045227\n",
      "    \n",
      "cos similarity between \"tothemoon\" and \"togheloon\" is:\n",
      "        0.11157125979661942\n",
      "    \n",
      "cos similarity between \"tothemoon\" and \"dejavu\" is:\n",
      "        -0.03561421483755112\n",
      "    \n",
      "cos similarity between \"tothemoon\" and \"moontothe\" is:\n",
      "        0.7430306673049927\n",
      "    \n",
      "cos similarity between \"tothemoon\" and \"mtotnohoe\" is:\n",
      "        0.10683146119117737\n",
      "    \n",
      "cos similarity between \"tothemoon\" and \"moon\" is:\n",
      "        0.5390172600746155\n",
      "    \n"
     ]
    }
   ],
   "source": [
    "# For now, only use lower case letters.\n",
    "n_gram = 3\n",
    "\n",
    "def compare_sent(sent1, sent2):\n",
    "    \"\"\"\n",
    "    Function\n",
    "    ===\n",
    "    Calculate cosine similarity to two sentences.\n",
    "\n",
    "    \"\"\"\n",
    "    hdg1 = ngram(text=sent1, IM=lower_alpha_IM, \\\n",
    "        concepts=lower_alpha_concepts)\n",
    "\n",
    "    hdg2 = ngram(text=sent2, IM=lower_alpha_IM, \\\n",
    "        concepts=lower_alpha_concepts)\n",
    "\n",
    "    print(f\"\"\"cos similarity between \"{\"\".join(sent1)}\" and \"{\"\".join(sent2)}\" is:\n",
    "        {inter_cos_simi(hdg1, hdg2)[0][0]}\n",
    "    \"\"\")\n",
    "\n",
    "compare_sent(list(\"tothemoon\"), list(\"totheloon\"))\n",
    "compare_sent(list(\"tothemoon\"), list(\"togheloon\"))\n",
    "compare_sent(list(\"tothemoon\"), list(\"dejavu\"))\n",
    "compare_sent(list(\"tothemoon\"), list(\"moontothe\"))\n",
    "compare_sent(list(\"tothemoon\"), list(\"mtotnohoe\"))\n",
    "compare_sent(list(\"tothemoon\"), list(\"moon\"))"
   ]
  }
 ],
 "metadata": {
  "kernelspec": {
   "display_name": "hdc",
   "language": "python",
   "name": "python3"
  },
  "language_info": {
   "codemirror_mode": {
    "name": "ipython",
    "version": 3
   },
   "file_extension": ".py",
   "mimetype": "text/x-python",
   "name": "python",
   "nbconvert_exporter": "python",
   "pygments_lexer": "ipython3",
   "version": "3.12.7"
  }
 },
 "nbformat": 4,
 "nbformat_minor": 2
}
