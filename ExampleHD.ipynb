{
 "cells": [
  {
   "cell_type": "markdown",
   "id": "bd705632-ad4a-4b5d-ba0c-6cf4ad92ad8b",
   "metadata": {},
   "source": [
    "# Torchhd\n",
    "reference: https://torchhd.readthedocs.io/en/stable/getting_started.html\n",
    "\n",
    "## 数据结构与操作\n",
    "以不同的方式创建超维张量表示\n",
    "| Recor              | Ruit          | Weight          |  Season          |\n",
    "| --------------- | ----------- | ----------- | ----------- |\n",
    "| r1| apple         | 149.0 | fall|\n",
    "| r2| lemon  | 70.5 | winter |\n",
    "| r3| mango | 173.2 | summer |\n"
   ]
  },
  {
   "cell_type": "code",
   "execution_count": 2,
   "id": "bc4a6ae2-733b-4649-a3d6-0afd5bc5522c",
   "metadata": {},
   "outputs": [
    {
     "data": {
      "text/plain": [
       "(torch.Size([3, 10000]),\n",
       " MAPTensor([[ 1., -1., -1.,  ..., -1.,  1., -1.],\n",
       "            [ 1., -1.,  1.,  ..., -1.,  1., -1.],\n",
       "            [ 1., -1.,  1.,  ..., -1.,  1.,  1.]]))"
      ]
     },
     "execution_count": 2,
     "metadata": {},
     "output_type": "execute_result"
    }
   ],
   "source": [
    "import torchhd\n",
    "\n",
    "d = 10000 # dimensions\n",
    "fruits = torchhd.random(3, d)\n",
    "weights = torchhd.level(10, d)\n",
    "seasons = torchhd.circular(4, d)\n",
    "var = torchhd.random(3, d)\n",
    "fruits.shape, fruits"
   ]
  },
  {
   "cell_type": "markdown",
   "id": "1b450e89-d7eb-4586-8f88-a55ccf7e034f",
   "metadata": {},
   "source": [
    "然后可以索引其中的部分元素"
   ]
  },
  {
   "cell_type": "code",
   "execution_count": null,
   "id": "2e00673a-d948-4f51-8ead-9893fde41e0a",
   "metadata": {},
   "outputs": [
    {
     "data": {
      "text/plain": [
       "MAPTensor([[-1., -1.,  1.,  ..., -1.,  1., -1.]])"
      ]
     },
     "execution_count": 4,
     "metadata": {},
     "output_type": "execute_result"
    }
   ],
   "source": [
    "import torch\n",
    "\n",
    "weight = torch.tensor([149.0])\n",
    "# explicit mapping of the fruit weight to an index\n",
    "w_i = torchhd.value_to_index(weight, 0, 200, 10) \n",
    "weights[w_i]  # select representation of 149"
   ]
  },
  {
   "cell_type": "markdown",
   "id": "2e39616d-374f-4a1d-a35f-f648bcf82423",
   "metadata": {},
   "source": [
    "通过内置的模块"
   ]
  },
  {
   "cell_type": "code",
   "execution_count": 5,
   "id": "390c5e77-0805-4dff-8654-1106bbd8be01",
   "metadata": {},
   "outputs": [
    {
     "data": {
      "text/plain": [
       "MAPTensor([[ 1.,  1.,  1.,  ..., -1., -1., -1.]])"
      ]
     },
     "execution_count": 5,
     "metadata": {},
     "output_type": "execute_result"
    }
   ],
   "source": [
    "from torchhd import embeddings\n",
    "\n",
    "W_emb = embeddings.Level(10, d, low=0, high=200)\n",
    "# select representation of 149\n",
    "W_emb(weight)  # same result as weights[w_i]"
   ]
  },
  {
   "cell_type": "markdown",
   "id": "75ae1d20-5b62-46db-92cc-fd5ed8c84498",
   "metadata": {},
   "source": [
    "## 操作\n",
    "以 MAP 操作为例，通过 bind bundle 操作创建关联"
   ]
  },
  {
   "cell_type": "code",
   "execution_count": 8,
   "id": "fdec5e57-3705-4132-b803-747534e2a81e",
   "metadata": {},
   "outputs": [
    {
     "data": {
      "text/plain": [
       "(MAPTensor([[-1.,  1.,  1.,  ..., -1., -1., -1.]]),\n",
       " MAPTensor([[True, True, True,  ..., True, True, True]]))"
      ]
     },
     "execution_count": 8,
     "metadata": {},
     "output_type": "execute_result"
    }
   ],
   "source": [
    "f = torchhd.bind(var[0], fruits[0])   # fruit = apple\n",
    "w = torchhd.bind(var[1], weights[w_i]) # weight = 149\n",
    "s = torchhd.bind(var[2], seasons[3])   # season = fall\n",
    "r1 = torchhd.bundle(torchhd.bundle(f, w), s)\n",
    "r1_prime = var[0] * fruits[0] + var[1] * weights[w_i] + var[2] * seasons[3]\n",
    "r1, r1 == r1_prime"
   ]
  },
  {
   "cell_type": "markdown",
   "id": "3d43c987-0f1a-47f5-8fd2-1eb12210df70",
   "metadata": {},
   "source": [
    "或者运用其他数据结构，如 hashtable"
   ]
  },
  {
   "cell_type": "code",
   "execution_count": 18,
   "id": "7714c8ca-983e-4b93-90e4-548cf8f95761",
   "metadata": {},
   "outputs": [
    {
     "data": {
      "text/plain": [
       "MAPTensor([-1.,  1.,  1.,  ..., -1., -1., -1.])"
      ]
     },
     "execution_count": 18,
     "metadata": {},
     "output_type": "execute_result"
    }
   ],
   "source": [
    "# combine values in one tensor of shape (3, d)\n",
    "# weights shape is [1, d]\n",
    "values = torch.stack([fruits[0], weights[w_i][0], seasons[3]])\n",
    "r1 = torchhd.hash_table(var, values)\n",
    "r1\n",
    "# fruits[0].shape, weights[w_i][0]"
   ]
  },
  {
   "cell_type": "code",
   "execution_count": 11,
   "id": "50918676-68c6-4c4f-bef8-f9e94d137cea",
   "metadata": {},
   "outputs": [],
   "source": [
    "from torchhd import structures\n",
    "\n",
    "r1 = structures.HashTable(d)  # r1 = 0\n",
    "r1.add(var[0], fruits[0])     # r1 + var[0] * fruits[0]\n",
    "r1.add(var[1], weights[w_i])   # r1 + var[1] * weights[w_i]\n",
    "r1.add(var[2], seasons[3])     # r1 + var[2] * seasons[3]\n",
    "# query the hash table by key:\n",
    "fruit = r1.get(var[0])   # r1 * var[0]\n",
    "weight = r1.get(var[1])  # r1 * var[1]\n",
    "season = r1.get(var[2])  # r1 * var[2]"
   ]
  },
  {
   "cell_type": "markdown",
   "id": "25a01487-530d-4493-8a6c-fdd0aeae3a33",
   "metadata": {},
   "source": [
    "# HDC learning"
   ]
  },
  {
   "cell_type": "markdown",
   "id": "fe308f70-adf4-4c49-8701-16ae406d147c",
   "metadata": {},
   "source": [
    "Using MNIST dataset"
   ]
  },
  {
   "cell_type": "code",
   "execution_count": 1,
   "id": "02dd5a1f-f787-4d43-84d8-73a7062336bf",
   "metadata": {},
   "outputs": [
    {
     "name": "stdout",
     "output_type": "stream",
     "text": [
      "Using cuda device\n"
     ]
    }
   ],
   "source": [
    "import torch\n",
    "import torch.nn as nn\n",
    "import torch.nn.functional as F\n",
    "import torchvision\n",
    "from torchvision.datasets import MNIST\n",
    "\n",
    "# Note: this example requires the torchmetrics library: https://torchmetrics.readthedocs.io\n",
    "import torchmetrics\n",
    "from tqdm import tqdm\n",
    "\n",
    "import torchhd\n",
    "from torchhd.models import Centroid\n",
    "from torchhd import embeddings\n",
    "\n",
    "\n",
    "device = torch.device(\"cuda\" if torch.cuda.is_available() else \"cpu\")\n",
    "print(\"Using {} device\".format(device))\n",
    "\n",
    "DIMENSIONS = 10000\n",
    "IMG_SIZE = 28\n",
    "NUM_LEVELS = 1000\n",
    "BATCH_SIZE = 1  # for GPUs with enough memory we can process multiple images at ones"
   ]
  },
  {
   "cell_type": "markdown",
   "id": "fa70b2e1-7b91-486f-bff0-bd20574d839d",
   "metadata": {},
   "source": [
    "定义了一个转换函数，将MNIST数据集中的图像转换为张量。\n",
    "\n",
    "然后加载MNIST训练数据集和测试数据集，并创建相应的数据加载器（DataLoader）。"
   ]
  },
  {
   "cell_type": "code",
   "execution_count": 2,
   "id": "f96d08b0-4578-4275-aed2-53976c7ab95c",
   "metadata": {},
   "outputs": [],
   "source": [
    "transform = torchvision.transforms.ToTensor()\n",
    "\n",
    "train_ds = MNIST(\"../data\", train=True, transform=transform, download=True)\n",
    "train_ld = torch.utils.data.DataLoader(train_ds, batch_size=BATCH_SIZE, shuffle=True)\n",
    "\n",
    "test_ds = MNIST(\"../data\", train=False, transform=transform, download=True)\n",
    "test_ld = torch.utils.data.DataLoader(test_ds, batch_size=BATCH_SIZE, shuffle=False)"
   ]
  },
  {
   "cell_type": "markdown",
   "id": "2abecca7-a241-479c-9cc2-cd88d091c52b",
   "metadata": {},
   "source": [
    "## training\n",
    "To perform the training, we start by defining an encoding. In addition to specifying the basis-hypervectors sets, a core part of learning is the encoding function. In the example below, we use **random-hypervectors and level-hypervectors to encode the position and value of each pixel**, respectively:\n",
    "\n",
    "定义了一个编码器（Encoder）类，它继承自nn.Module。编码器包括一个flatten层，一个随机位置编码层（position），和一个基于级别的值编码层（value）。编码器的前向传播方法（forward）将输入的图像张量转换为硬量化的向量。\n",
    "\n",
    "然后，创建编码器实例并将其移动到设定的设备上。确定类别数量，并创建Centroid模型实例，也将其移动到设定的设备上。"
   ]
  },
  {
   "cell_type": "code",
   "execution_count": 3,
   "id": "c01c597c-a0e9-415b-b836-c0d6d2d9570e",
   "metadata": {},
   "outputs": [],
   "source": [
    "class Encoder(nn.Module):\n",
    "    def __init__(self, out_features, size, levels):\n",
    "        super(Encoder, self).__init__()\n",
    "        self.flatten = torch.nn.Flatten()\n",
    "        self.position = embeddings.Random(size * size, out_features)\n",
    "        self.value = embeddings.Level(levels, out_features)\n",
    "\n",
    "    def forward(self, x):\n",
    "        x = self.flatten(x)\n",
    "        sample_hv = torchhd.bind(self.position.weight, self.value(x))\n",
    "        sample_hv = torchhd.multiset(sample_hv)\n",
    "        return torchhd.hard_quantize(sample_hv)\n",
    "\n",
    "\n",
    "encode = Encoder(DIMENSIONS, IMG_SIZE, NUM_LEVELS)\n",
    "encode = encode.to(device)\n",
    "\n",
    "num_classes = len(train_ds.classes)\n",
    "model = Centroid(DIMENSIONS, num_classes)\n",
    "model = model.to(device)"
   ]
  },
  {
   "cell_type": "markdown",
   "id": "da7de6af-3bf6-4c0c-8897-0c49584ed8a6",
   "metadata": {},
   "source": [
    "在不需要计算梯度的情况下，遍历训练数据集，使用编码器将图像转换为硬量化向量，并使用模型的add方法将它们添加到聚类中心。\n",
    "\n",
    "Having defined the model, we iterate over the training samples to create the class-vectors:"
   ]
  },
  {
   "cell_type": "code",
   "execution_count": 26,
   "id": "717954a8-e450-4790-8032-f7fc97aaa314",
   "metadata": {
    "scrolled": true
   },
   "outputs": [
    {
     "name": "stderr",
     "output_type": "stream",
     "text": [
      "Training:   0%|                                                                                                                                                                   | 0/60000 [00:00<?, ?it/s]/tmp/ipykernel_20549/1987552506.py:12: DeprecationWarning: torchhd.hard_quantize is deprecated, consider using torchhd.normalize instead.\n",
      "  return torchhd.hard_quantize(sample_hv)\n",
      "Training: 100%|██████████████████████████████████████████████████████████████████████████████████████████████████████████████████████████████████████████████████████| 60000/60000 [01:30<00:00, 666.33it/s]\n"
     ]
    }
   ],
   "source": [
    "with torch.no_grad():\n",
    "    for samples, labels in tqdm(train_ld, desc=\"Training\"):\n",
    "        samples = samples.to(device)\n",
    "        labels = labels.to(device)\n",
    "\n",
    "        samples_hv = encode(samples)\n",
    "        model.add(samples_hv, labels)"
   ]
  },
  {
   "cell_type": "markdown",
   "id": "958d253a-0e1a-4dd3-97c6-cbf9bb90dd9b",
   "metadata": {},
   "source": [
    "初始化一个Accuracy指标，用于计算模型的准确率。\n",
    "在不需要计算梯度的情况下，对测试数据集进行评估。模型被归一化，然后使用编码器将测试图像转换为硬量化向量，并通过模型获取输出。然后更新Accuracy指标。"
   ]
  },
  {
   "cell_type": "code",
   "execution_count": 27,
   "id": "38f34931-c044-4c5c-bb2d-634162c2b685",
   "metadata": {},
   "outputs": [
    {
     "name": "stderr",
     "output_type": "stream",
     "text": [
      "Testing:   0%|                                                                                                                                                                    | 0/10000 [00:00<?, ?it/s]/tmp/ipykernel_20549/1987552506.py:12: DeprecationWarning: torchhd.hard_quantize is deprecated, consider using torchhd.normalize instead.\n",
      "  return torchhd.hard_quantize(sample_hv)\n",
      "Testing: 100%|███████████████████████████████████████████████████████████████████████████████████████████████████████████████████████████████████████████████████████| 10000/10000 [00:19<00:00, 521.92it/s]"
     ]
    },
    {
     "name": "stdout",
     "output_type": "stream",
     "text": [
      "Testing accuracy of 82.770%\n"
     ]
    },
    {
     "name": "stderr",
     "output_type": "stream",
     "text": [
      "\n"
     ]
    }
   ],
   "source": [
    "accuracy = torchmetrics.Accuracy(\"multiclass\", num_classes=num_classes)\n",
    "\n",
    "with torch.no_grad():\n",
    "    model.normalize()\n",
    "\n",
    "    for samples, labels in tqdm(test_ld, desc=\"Testing\"):\n",
    "        samples = samples.to(device)\n",
    "\n",
    "        samples_hv = encode(samples)\n",
    "        outputs = model(samples_hv, dot=True)\n",
    "        accuracy.update(outputs.cpu(), labels)\n",
    "\n",
    "print(f\"Testing accuracy of {(accuracy.compute().item() * 100):.3f}%\")"
   ]
  },
  {
   "cell_type": "markdown",
   "id": "c4374f70-3043-48ad-99e0-593990451fbc",
   "metadata": {},
   "source": [
    "## 编程指导"
   ]
  },
  {
   "cell_type": "markdown",
   "id": "c6a809f5-e0a1-48df-ab79-02c31932f9d6",
   "metadata": {},
   "source": [
    "## 数据处理\n",
    "ToTensor()的工作原理如下：\n",
    "\n",
    "1. 将图像的像素值从整数类型[0, 255]归一化到浮点数类型[0.0, 1.0]。这是通过将每个像素值除以255来实现的。\n",
    "\n",
    "2. 将图像数据的形状从(H x W x C)转换为(C x H x W)。对于彩色图像，这意味着将图像从高度、宽度、通道的格式转换为通道、高度、宽度的格式。这种格式是PyTorch张量的标准格式。\n",
    "\n",
    "3. 如果输入是PIL图像，它还会将图像模式从'L'（灰度）、'RGB'或'RGBA'转换为相应的张量格式。"
   ]
  },
  {
   "cell_type": "markdown",
   "id": "c0655b67-8c94-4645-8ee3-91f60afb2420",
   "metadata": {},
   "source": [
    "1. `train_ds`：这个变量是 `MNIST` 数据集的一个实例，它包含了MNIST手写数字数据集的训练集。`MNIST` 类是 `torchvision.datasets` 模块中的一个类，它继承自 `torch.utils.data.Dataset`。因此，`train_ds` 是一个 `Dataset` 对象，它提供了访问和处理MNIST训练数据的方法。\n",
    "\n",
    "2. `train_ld`：这个变量是 `DataLoader` 对象，它是一个迭代器，用于在训练过程中批量加载数据。`DataLoader` 类是 `torch.utils.data` 模块中的一个类，它封装了 `Dataset` 对象，并提供了额外的功能，如自动批量处理、打乱数据顺序（如果 `shuffle=True`）、多进程数据加载等。因此，`train_ld` 是一个 `DataLoader` 对象，它可以用来在训练循环中迭代获取数据。\n",
    "\n",
    "具体来说：\n",
    "\n",
    "- `MNIST` 类的实例化过程中，`train=True` 参数指定了要加载训练集，`transform=transform` 应用了之前定义的 `ToTensor` 转换，将图像转换为张量，`download=True` 表示如果本地没有数据集则需要下载数据集。\n",
    "- `DataLoader` 类的实例化过程中，`train_ds` 是被封装的 `Dataset` 对象，`batch_size=BATCH_SIZE` 指定了每个批次的样本数量，`shuffle=True` 表示在每个epoch开始时将数据集打乱。\n",
    "\n",
    "在实际使用中，`train_ld` 通常在训练循环中使用，例如：\n",
    "\n",
    "```python\n",
    "for data, target in train_ld:\n",
    "    # 训练模型的代码\n",
    "    pass\n",
    "```\n",
    "\n",
    "每次迭代时，`train_ld` 会从 `train_ds` 中自动取出一个批次的数据和标签，然后你可以用这些数据来训练你的模型。"
   ]
  },
  {
   "cell_type": "markdown",
   "id": "702eb994-ac35-43b7-93a3-6f0ff2f52fb9",
   "metadata": {},
   "source": [
    "## 定义算法\n",
    "\n",
    "torchhd.multiset(sample_hv) 将结合后的编码转换为多集（multiset）表示，这是一种数据结构，用于表示具有重复元素的集合。\n",
    "torchhd.hard_quantize(sample_hv) 对多集表示进行硬量化，将其转换为离散的直方图向量。\n",
    "\n",
    "Centroid 是一个聚类模型，它使用直方图向量作为特征。这里是torchhd 自己实现的 model。"
   ]
  },
  {
   "cell_type": "code",
   "execution_count": 28,
   "id": "d85249d4-309e-4b6a-98d3-49c0417afd7e",
   "metadata": {
    "scrolled": true
   },
   "outputs": [
    {
     "data": {
      "text/plain": [
       "Centroid(in_features=10000, out_features=10)"
      ]
     },
     "execution_count": 28,
     "metadata": {},
     "output_type": "execute_result"
    }
   ],
   "source": [
    "model"
   ]
  },
  {
   "cell_type": "markdown",
   "id": "6a780b8e",
   "metadata": {},
   "source": [
    "# 图形化 向量间的距离关系"
   ]
  },
  {
   "cell_type": "code",
   "execution_count": 41,
   "id": "16a05607",
   "metadata": {},
   "outputs": [],
   "source": [
    "import torchhd\n",
    "\n",
    "d = 10000 # dimensions\n",
    "num = 20\n",
    "rand_iM = torchhd.random(num, d)\n",
    "level_iM = torchhd.level(num, d)\n",
    "circ_iM = torchhd.circular(num, d)\n",
    "\n",
    "rel_rand = torchhd.cosine_similarity(rand_iM, rand_iM)\n",
    "lev_rand = torchhd.cosine_similarity(level_iM, level_iM)\n",
    "cir_rand = torchhd.cosine_similarity(circ_iM, circ_iM)\n"
   ]
  },
  {
   "cell_type": "code",
   "execution_count": 51,
   "id": "7b25108d",
   "metadata": {},
   "outputs": [
    {
     "data": {
      "image/png": "[encoded data removed]",
      "text/plain": [
       "<Figure size 1500x500 with 4 Axes>"
      ]
     },
     "metadata": {},
     "output_type": "display_data"
    }
   ],
   "source": [
    "import matplotlib.pyplot as plt\n",
    "# plt.xticks(np.arange(len(farmers)), labels=farmers, \n",
    "#                      rotation=45, rotation_mode=\"anchor\", ha=\"right\")\n",
    "# plt.yticks(np.arange(len(vegetables)), labels=vegetables)\n",
    "\n",
    "# for i in range(len(vegetables)):\n",
    "#     for j in range(len(farmers)):\n",
    "#         text = plt.text(j, i, harvest[i, j], ha=\"center\", va=\"center\", color=\"w\")\n",
    "\n",
    "# 创建一个图形窗口\n",
    "fig, axs = plt.subplots(1, 3, figsize = (15, 5))\n",
    "\n",
    "# 绘制第一个热力图\n",
    "cax1 = axs[0].imshow(rel_rand, origin = 'lower', cmap = 'viridis')  # 'hot'是颜色映射，可以根据需要选择其他颜色映射\n",
    "axs[0].set_title('random')\n",
    "\n",
    "# 绘制第二个热力图\n",
    "cax2 = axs[1].imshow(lev_rand, origin = 'lower', cmap = 'viridis')\n",
    "axs[1].set_title('level')\n",
    "\n",
    "# 绘制第三个热力图\n",
    "cax3 = axs[2].imshow(cir_rand, origin = 'lower', cmap = 'viridis')\n",
    "axs[2].set_title('circular')\n",
    "\n",
    "# 创建一个空的子图用于颜色条\n",
    "cax = fig.add_axes([0.12, 0.95, 0.76, 0.05])  # [left, bottom, width, height]\n",
    "# 添加颜色条\n",
    "cbar = fig.colorbar(cax1, cax = cax, orientation='horizontal')\n",
    "\n",
    "# 设置颜色条的位置\n",
    "cbar.set_label('Colorbar Label')\n",
    "\n",
    "# 调整子图之间的间距，为颜色条腾出空间\n",
    "plt.subplots_adjust(top = 0.8)\n",
    "plt.title(\"the distance between hypervectors\")\n",
    "plt.show()"
   ]
  },
  {
   "cell_type": "code",
   "execution_count": null,
   "id": "e298a573",
   "metadata": {},
   "outputs": [],
   "source": []
  }
 ],
 "metadata": {
  "kernelspec": {
   "display_name": "hdc",
   "language": "python",
   "name": "python3"
  },
  "language_info": {
   "codemirror_mode": {
    "name": "ipython",
    "version": 3
   },
   "file_extension": ".py",
   "mimetype": "text/x-python",
   "name": "python",
   "nbconvert_exporter": "python",
   "pygments_lexer": "ipython3",
   "version": "3.12.7"
  }
 },
 "nbformat": 4,
 "nbformat_minor": 5
}
