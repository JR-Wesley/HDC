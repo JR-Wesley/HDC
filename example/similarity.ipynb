{
 "cells": [
  {
   "cell_type": "code",
   "execution_count": 1,
   "metadata": {},
   "outputs": [],
   "source": [
    "import torch\n",
    "d = 10240\n",
    "dimen = (d,)"
   ]
  },
  {
   "cell_type": "code",
   "execution_count": 2,
   "metadata": {},
   "outputs": [
    {
     "name": "stdout",
     "output_type": "stream",
     "text": [
      "tensor([-1, -1,  1,  ...,  1, -1, -1])\n",
      "tensor([-1,  1,  1,  ...,  1,  1, -1])\n"
     ]
    }
   ],
   "source": [
    "concepts = ['country', 'currency', 'cap']\n",
    "countries = ['usa', 'chn']\n",
    "currency = ['dol', 'rmb']\n",
    "cap = ['wsd', 'bei']\n",
    "\n",
    "hv_feature = {f: 2 * torch.randint(low=0, high=2, size=dimen) - 1 for f in concepts}\n",
    "hv_country = {c: 2 * torch.randint(0, 2, dimen) - 1 for c in countries}\n",
    "hv_currency = {c: 2 * torch.randint(0, 2, dimen) - 1 for c in currency}\n",
    "hv_cap =  {c: 2 * torch.randint(0, 2, dimen) - 1 for c in cap}\n",
    "\n",
    "# usa = torch.bernoulli(torch.full(dimen, 0.5))\n",
    "\n",
    "print(hv_country['usa'])\n",
    "print(hv_feature['country'])"
   ]
  },
  {
   "cell_type": "code",
   "execution_count": 3,
   "metadata": {},
   "outputs": [],
   "source": [
    "def bind(hv1, hv2):\n",
    "    \"\"\"\n",
    "    Function\n",
    "    ===\n",
    "    xor elementwise\n",
    "    \"\"\"    \n",
    "    return hv1 * hv2\n",
    "\n",
    "def bundle(hv1, hv2):\n",
    "    \"\"\"\n",
    "    Function\n",
    "    ===\n",
    "    if the sum >= 1, set to 1\n",
    "    else set to 0\n",
    "    \"\"\"\n",
    "    #return hv1 + hv2\n",
    "    return ((hv1 + hv2) > 0).int() * 2 - 1\n",
    "\n",
    "usa_HosVec = bundle(\n",
    "                bind(hv_feature['country'], hv_country['usa']),\n",
    "                bind(hv_feature['currency'], hv_currency['dol']))#,\n",
    "               # bind(hv_feature['cap'], hv_cap['wsd']))\n",
    "\n",
    "chn_HosVec = bundle(\n",
    "                bind(hv_feature['country'], hv_country['chn']),\n",
    "                bind(hv_feature['currency'], hv_currency['rmb']))#,\n",
    "               # bind(hv_feature['cap'], hv_cap['bei']))\n"
   ]
  },
  {
   "cell_type": "markdown",
   "metadata": {},
   "source": [
    "bundle 直接量化为 {-1， 1} 后，相似度难以分辨"
   ]
  },
  {
   "cell_type": "code",
   "execution_count": 4,
   "metadata": {},
   "outputs": [
    {
     "name": "stdout",
     "output_type": "stream",
     "text": [
      "tensor([ 1, -1,  1,  ...,  1, -1,  1])\n",
      "tensor([-1, -1,  1,  ..., -1, -1,  1])\n"
     ]
    }
   ],
   "source": [
    "print(bind(hv_feature['country'], hv_country['usa']))\n",
    "print(bind(hv_feature['currency'], hv_currency['dol']))"
   ]
  },
  {
   "cell_type": "code",
   "execution_count": 5,
   "metadata": {},
   "outputs": [
    {
     "data": {
      "text/plain": [
       "(tensor([-1, -1,  1,  ..., -1, -1,  1], dtype=torch.int32),\n",
       " tensor([0, 0, 0,  ..., 0, 0, 0], dtype=torch.int32))"
      ]
     },
     "execution_count": 5,
     "metadata": {},
     "output_type": "execute_result"
    }
   ],
   "source": [
    "usa_HosVec, (usa_HosVec > 1).int()"
   ]
  },
  {
   "cell_type": "code",
   "execution_count": 6,
   "metadata": {},
   "outputs": [
    {
     "data": {
      "text/plain": [
       "tensor([ 1,  1,  1,  ..., -1,  1,  1], dtype=torch.int32)"
      ]
     },
     "execution_count": 6,
     "metadata": {},
     "output_type": "execute_result"
    }
   ],
   "source": [
    "usa2chn = bind(usa_HosVec, chn_HosVec)\n",
    "usa2chn"
   ]
  },
  {
   "cell_type": "code",
   "execution_count": 7,
   "metadata": {},
   "outputs": [
    {
     "data": {
      "text/plain": [
       "tensor([ 1,  1,  1,  ...,  1,  1, -1])"
      ]
     },
     "execution_count": 7,
     "metadata": {},
     "output_type": "execute_result"
    }
   ],
   "source": [
    "query = bind(hv_currency['dol'], usa2chn)\n",
    "query"
   ]
  },
  {
   "cell_type": "markdown",
   "metadata": {},
   "source": [
    "# cos/Humming 相似度"
   ]
  },
  {
   "cell_type": "code",
   "execution_count": null,
   "metadata": {},
   "outputs": [
    {
     "name": "stdout",
     "output_type": "stream",
     "text": [
      "3841\n",
      "3827\n",
      "3841\n",
      "5129\n",
      "5165\n",
      "5059\n",
      "6359\n",
      "0.24980470538139343\n",
      "0.2525390684604645\n",
      "0.24980470538139343\n",
      "-0.0017578131519258022\n",
      "-0.008789063431322575\n",
      "0.01191406324505806\n",
      "-0.24199220538139343\n"
     ]
    }
   ],
   "source": [
    "import torch.nn.functional as F\n",
    "\n",
    "def simi_Hum(hv1, hv2):\n",
    "    \"\"\"\n",
    "    p = 1 Humming distance\n",
    "    \"\"\"\n",
    "    ham = hv1 ^ hv2\n",
    "    return torch.sum(ham != 0).item()\n",
    "\n",
    "def simi_cos(hv1, hv2):\n",
    "    \n",
    "    return F.cosine_similarity(hv1.float(), hv2.float(), dim=0).item()\n",
    "\n",
    "print(simi_Hum(usa_HosVec, chn_HosVec))\n",
    "print(simi_Hum(query, hv_currency['rmb']))\n",
    "print(simi_Hum(query, hv_currency['dol']))\n",
    "print(simi_Hum(query, hv_country['usa']))\n",
    "print(simi_Hum(query, hv_country['chn']))\n",
    "print(simi_Hum(query, hv_feature['country']))\n",
    "print(simi_Hum(query, hv_feature['currency']))\n",
    "\n",
    "print(simi_cos(usa_HosVec, chn_HosVec))\n",
    "print(simi_cos(query, hv_currency['rmb']))\n",
    "print(simi_cos(query, hv_currency['dol']))\n",
    "print(simi_cos(query, hv_country['usa']))\n",
    "print(simi_cos(query, hv_country['chn']))\n",
    "print(simi_cos(query, hv_feature['country']))\n",
    "print(simi_cos(query, hv_feature['currency']))\n"
   ]
  },
  {
   "cell_type": "markdown",
   "metadata": {},
   "source": [
    "不进行量化，计算出的 query Ham 距离无法区分，只有 cos 存在差异。\n",
    "\n",
    "两变量的 cos 近似度 最高为 0.5，\n",
    "而三变量的 cos 近似度最高 0.3"
   ]
  },
  {
   "cell_type": "code",
   "execution_count": 9,
   "metadata": {},
   "outputs": [
    {
     "name": "stdout",
     "output_type": "stream",
     "text": [
      "L1 norm: 10.0\n",
      "L2 norm: 5.4772257804870605\n"
     ]
    }
   ],
   "source": [
    "import torch\n",
    "\n",
    "# 假设你有一个torch.vector\n",
    "vector = torch.tensor([1.0, 2.0, 3.0, 4.0])\n",
    "\n",
    "# 计算L1范数（曼哈顿距离）\n",
    "l1_norm = torch.norm(vector, p=1)\n",
    "print(f\"L1 norm: {l1_norm}\")\n",
    "\n",
    "# 计算L2范数（欧几里得距离）\n",
    "l2_norm = torch.norm(vector, p=2)\n",
    "print(f\"L2 norm: {l2_norm}\")"
   ]
  },
  {
   "cell_type": "code",
   "execution_count": 10,
   "metadata": {},
   "outputs": [
    {
     "name": "stdout",
     "output_type": "stream",
     "text": [
      "Cosine similarity: 2.9802322387695312e-08\n"
     ]
    }
   ],
   "source": [
    "import torch\n",
    "import torch.nn.functional as F\n",
    "\n",
    "# 假设我们有两个向量\n",
    "vector1 = torch.tensor([1.0, 2.0, 3.0])\n",
    "vector2 = torch.tensor([-1.0, 2.0, -1.0])\n",
    "\n",
    "# 计算两个向量的余弦相似度\n",
    "cosine_sim = F.cosine_similarity(vector1, vector2, dim=0)\n",
    "\n",
    "print(f\"Cosine similarity: {cosine_sim.item()}\")"
   ]
  },
  {
   "cell_type": "code",
   "execution_count": 11,
   "metadata": {},
   "outputs": [
    {
     "name": "stdout",
     "output_type": "stream",
     "text": [
      "Hamming distance: 4\n"
     ]
    }
   ],
   "source": [
    "import torch\n",
    "\n",
    "# 假设我们有两个向量\n",
    "vector1 = torch.tensor([1, 0, 1, 1, 0], dtype=torch.int)\n",
    "vector2 = torch.tensor([1, 1, 0, 0, 1], dtype=torch.int)\n",
    "\n",
    "# 计算两个向量的按位异或\n",
    "xor_result = vector1 ^ vector2\n",
    "\n",
    "# 计算汉明距离，即异或结果中非零元素的数量\n",
    "hamming_distance = torch.sum(xor_result != 0).item()\n",
    "\n",
    "print(f\"Hamming distance: {hamming_distance}\")"
   ]
  },
  {
   "cell_type": "code",
   "execution_count": 7,
   "metadata": {},
   "outputs": [
    {
     "name": "stderr",
     "output_type": "stream",
     "text": [
      "GEN 9: 100%|██████████| 10/10 [00:01<00:00,  9.62it/s, gen=58, loss=0.0886, lst=[1, 2], str=h]\n"
     ]
    }
   ],
   "source": [
    "from tqdm import trange\n",
    "from random import random,randint\n",
    "import time\n",
    " \n",
    "with trange(10) as t:\n",
    "  for i in t:\n",
    "    #设置进度条左边显示的信息\n",
    "    t.set_description(\"GEN %i\"%i)\n",
    "    #设置进度条右边显示的信息\n",
    "    t.set_postfix(loss=random(),gen=randint(1,999),str=\"h\",lst=[1,2])\n",
    "    time.sleep(0.1)\n"
   ]
  },
  {
   "cell_type": "code",
   "execution_count": null,
   "metadata": {},
   "outputs": [
    {
     "data": {
      "text/plain": [
       "([3, 2, 2, 4, 1], 1, 4)"
      ]
     },
     "execution_count": 4,
     "metadata": {},
     "output_type": "execute_result"
    }
   ],
   "source": [
    "import torch\n",
    "\n",
    "am = torch.tensor(\n",
    "    [[1, 0, 1, 1, 0],\n",
    "    [0, 1, 1, 0, 0],\n",
    "    [1, 0, 0, 1, 0],\n",
    "    [1, 1, 1, 1, 0],\n",
    "    [0, 1, 0, 0, 0],]\n",
    ")\n",
    "\n",
    "cls_simi = [len(torch.nonzero(am[i])) for i in range(am.size(0))]\n",
    "cls_simi, min(cls_simi), cls_simi.index(min(cls_simi)),"
   ]
  }
 ],
 "metadata": {
  "kernelspec": {
   "display_name": "hdc",
   "language": "python",
   "name": "python3"
  },
  "language_info": {
   "codemirror_mode": {
    "name": "ipython",
    "version": 3
   },
   "file_extension": ".py",
   "mimetype": "text/x-python",
   "name": "python",
   "nbconvert_exporter": "python",
   "pygments_lexer": "ipython3",
   "version": "3.12.2"
  }
 },
 "nbformat": 4,
 "nbformat_minor": 2
}
