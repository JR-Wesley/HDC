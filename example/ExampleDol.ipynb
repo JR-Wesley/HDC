{
 "cells": [
  {
   "cell_type": "markdown",
   "id": "a15b8a1a-ec4c-44db-a841-387eeebd544c",
   "metadata": {},
   "source": [
    "# 示例程序以美元为例\n",
    "## 初始化\n",
    "随机生成矢量，对应属性 variable - country, capital, currency；值 value 包括 US Mexico"
   ]
  },
  {
   "cell_type": "code",
   "execution_count": 1,
   "id": "3a54b1ce-a894-4063-bfc8-b4ea769641e1",
   "metadata": {},
   "outputs": [
    {
     "data": {
      "text/plain": [
       "(torch.Size([10000]), MAPTensor([-1.,  1.,  1.,  ..., -1.,  1.,  1.]))"
      ]
     },
     "execution_count": 1,
     "metadata": {},
     "output_type": "execute_result"
    }
   ],
   "source": [
    "import torch, torchhd\n",
    "d = 10000\n",
    "keys = torchhd.random(3, d)\n",
    "country, capital, currency = keys\n",
    "\n",
    "usa, mex = torchhd.random(2, d)  # United States and Mexico\n",
    "wdc, mxc = torchhd.random(2, d)  # Washington D.C. and Mexico City\n",
    "usd, mxn = torchhd.random(2, d)  # US Dollar and Mexican Peso\n",
    "usa.shape, usa"
   ]
  },
  {
   "cell_type": "markdown",
   "id": "fb83387d-fee8-4eb3-acd1-4f6567486527",
   "metadata": {},
   "source": [
    "## Mapping between analogical structure\n",
    "将 variable 和 value 绑定起来，即生成 US MX 的全息向量\n",
    "$$\n",
    "US = (country * usa + capital * wdc + currency * usd)\n",
    "$$\n",
    "These hypervectors are then combined to make a single hypervector for each country using a hash table structure. A hash table encodes key-value pairs as: $k1 * v1 + k2 * v2 + ... + kn * vn$."
   ]
  },
  {
   "cell_type": "code",
   "execution_count": 2,
   "id": "dff9f619-134f-4c13-a824-66bd93e84534",
   "metadata": {},
   "outputs": [
    {
     "data": {
      "text/plain": [
       "MAPTensor([-1.,  1., -1.,  ...,  1., -1.,  1.])"
      ]
     },
     "execution_count": 2,
     "metadata": {},
     "output_type": "execute_result"
    }
   ],
   "source": [
    "us_values = torch.stack([usa, wdc, usd])\n",
    "us = torchhd.hash_table(keys, us_values)\n",
    "us"
   ]
  },
  {
   "cell_type": "code",
   "execution_count": 3,
   "id": "5e0faa00-0c9a-46bc-b8d6-a01d6f78e487",
   "metadata": {},
   "outputs": [
    {
     "data": {
      "text/plain": [
       "MAPTensor([-1., -1.,  1.,  ..., -3.,  3., -3.])"
      ]
     },
     "execution_count": 3,
     "metadata": {},
     "output_type": "execute_result"
    }
   ],
   "source": [
    "mx_values = torch.stack([mex, mxc, mxn])\n",
    "mx = torchhd.hash_table(keys, mx_values)\n",
    "mx"
   ]
  },
  {
   "cell_type": "markdown",
   "id": "e105a0a5-9106-4e12-95f3-e05e1056fc64",
   "metadata": {},
   "source": [
    "将两个全息向量组合\n",
    "$$\n",
    "F_{UM} = US * MX\\\\\n",
    "= USA * MEX + WDC * MXC + DOL * PES + noise\n",
    "$$"
   ]
  },
  {
   "cell_type": "code",
   "execution_count": 9,
   "id": "af727169-5696-4d7f-8b5f-faaca234fdca",
   "metadata": {},
   "outputs": [
    {
     "data": {
      "text/plain": [
       "MAPTensor([ 3., -9.,  1.,  ..., -1., -3.,  1.])"
      ]
     },
     "execution_count": 9,
     "metadata": {},
     "output_type": "execute_result"
    }
   ],
   "source": [
    "# combine all the associated information\n",
    "mx_us = torchhd.bind(torchhd.inverse(us), mx)\n",
    "mx_us"
   ]
  },
  {
   "cell_type": "markdown",
   "id": "c1aa90a4-d596-4271-a4a0-3d0b5ac4f6c0",
   "metadata": {},
   "source": [
    "通过 US 和 MX 的映射关系，推导 usd 的对应\n",
    "$$\n",
    "DOL * F_{UM} = PES + noise\n",
    "$$"
   ]
  },
  {
   "cell_type": "code",
   "execution_count": 10,
   "id": "219c3ea6-e6e5-47e9-b0f8-3bd6495ead6f",
   "metadata": {},
   "outputs": [
    {
     "data": {
      "text/plain": [
       "MAPTensor([ 3., -9., -1.,  ..., -1., -3., -1.])"
      ]
     },
     "execution_count": 10,
     "metadata": {},
     "output_type": "execute_result"
    }
   ],
   "source": [
    "# query for the dollar of mexico\n",
    "usd_of_mex = torchhd.bind(mx_us, usd)\n",
    "usd_of_mex"
   ]
  },
  {
   "cell_type": "markdown",
   "id": "b6ccf6d7-99fe-4a4d-85ba-2a7ddca04441",
   "metadata": {},
   "source": [
    "memory"
   ]
  },
  {
   "cell_type": "code",
   "execution_count": 11,
   "id": "ca5849be-55bb-4e1e-98dd-1cdc4b624546",
   "metadata": {},
   "outputs": [
    {
     "data": {
      "text/plain": [
       "(MAPTensor([[ 1., -1.,  1.,  ..., -1.,  1., -1.],\n",
       "            [-1.,  1., -1.,  ...,  1., -1., -1.],\n",
       "            [ 1., -1.,  1.,  ..., -1., -1., -1.],\n",
       "            ...,\n",
       "            [ 1., -1., -1.,  ..., -1.,  1., -1.],\n",
       "            [-1.,  1., -1.,  ...,  1., -1., -1.],\n",
       "            [ 1., -1., -1.,  ...,  1.,  1.,  1.]]),\n",
       " torch.Size([9, 10000]))"
      ]
     },
     "execution_count": 11,
     "metadata": {},
     "output_type": "execute_result"
    }
   ],
   "source": [
    "memory = torch.cat([keys, us_values, mx_values], dim = 0)\n",
    "memory, memory.shape"
   ]
  },
  {
   "cell_type": "markdown",
   "id": "ad76fe9f-6c55-45f1-945b-29abcaebbf6d",
   "metadata": {},
   "source": [
    "query 的 hv 和 mxn (0.3349)二者最为相似"
   ]
  },
  {
   "cell_type": "code",
   "execution_count": 12,
   "id": "869453e9-5564-4194-ad5e-e18330845af3",
   "metadata": {},
   "outputs": [
    {
     "data": {
      "text/plain": [
       "MAPTensor([-0.0043,  0.0019,  0.0064, -0.0279,  0.0018, -0.0028, -0.0038,\n",
       "            0.0143,  0.3349])"
      ]
     },
     "execution_count": 12,
     "metadata": {},
     "output_type": "execute_result"
    }
   ],
   "source": [
    "torchhd.cosine_similarity(usd_of_mex, memory)\n",
    "# The hypervector for the Mexican Peso is the most similar."
   ]
  },
  {
   "cell_type": "markdown",
   "id": "fb861d81-5e20-4c23-9e34-7dd8a2b621da",
   "metadata": {},
   "source": [
    "## Programming Notes\n",
    "\n",
    "在PyTorch中，`torch.stack`和`torch.cat`是两个用于沿新维度合并张量的函数，但它们的用法和目的有所不同。\n",
    "\n",
    "### torch.stack\n",
    "\n",
    "`torch.stack`函数会将一系列张量沿着一个新的维度堆叠起来。与`torch.cat`不同，`torch.stack`会增加一个新的维度，并且要求所有输入张量的形状完全相同。\n",
    "\n",
    "**用法**:\n",
    "```python\n",
    "torch.stack(tensors, dim=0, *, out=None) → Tensor\n",
    "```\n",
    "- `tensors`：一个张量序列，它们的形状必须完全相同。\n",
    "- `dim`：新维度插入的位置。\n",
    "- `out`：一个可选的张量，用于存储输出。"
   ]
  },
  {
   "cell_type": "code",
   "execution_count": 13,
   "id": "b29dce99-6ae8-49a7-a2f4-b67e14086449",
   "metadata": {},
   "outputs": [
    {
     "data": {
      "text/plain": [
       "tensor([[1, 2],\n",
       "        [3, 4]])"
      ]
     },
     "execution_count": 13,
     "metadata": {},
     "output_type": "execute_result"
    }
   ],
   "source": [
    "import torch\n",
    "\n",
    "tensor1 = torch.tensor([1, 2])\n",
    "tensor2 = torch.tensor([3, 4])\n",
    "\n",
    "stacked_tensor = torch.stack((tensor1, tensor2))  # 默认在第0维堆叠\n",
    "stacked_tensor"
   ]
  },
  {
   "cell_type": "markdown",
   "id": "ca6e61d3-d449-4cf9-b9ab-7bebeed41eb2",
   "metadata": {},
   "source": [
    "### torch.cat\n",
    "\n",
    "`torch.cat`函数会将一系列张量沿着一个已存在的维度连接起来。所有输入张量的形状必须相同，除了拼接的维度。\n",
    "\n",
    "**用法**:\n",
    "```python\n",
    "torch.cat(tensors, dim=0, *, out=None) → Tensor\n",
    "```\n",
    "- `tensors`：一个张量序列，它们的形状必须在非拼接维度上相同。\n",
    "- `dim`：拼接的维度。\n",
    "- `out`：一个可选的张量，用于存储输出。\n",
    "\n",
    "在上述示例中，`torch.stack`创建了一个新的维度，并将两个张量堆叠在一起，而`torch.cat`则将两个张量沿着第0维（行）拼接在一起。\n",
    "\n",
    "总结来说，`torch.stack`用于创建一个新的维度并堆叠张量，而`torch.cat`用于在一个已存在的维度上拼接张量。\n"
   ]
  },
  {
   "cell_type": "code",
   "execution_count": 14,
   "id": "80eebe42-a6fe-4111-ac5b-e586e0db1e0d",
   "metadata": {},
   "outputs": [
    {
     "data": {
      "text/plain": [
       "tensor([[1, 2],\n",
       "        [3, 4],\n",
       "        [5, 6],\n",
       "        [7, 8]])"
      ]
     },
     "execution_count": 14,
     "metadata": {},
     "output_type": "execute_result"
    }
   ],
   "source": [
    "import torch\n",
    "\n",
    "tensor1 = torch.tensor([[1, 2], [3, 4]])\n",
    "tensor2 = torch.tensor([[5, 6], [7, 8]])\n",
    "\n",
    "concatenated_tensor = torch.cat((tensor1, tensor2), dim=0)  # 在第0维拼接\n",
    "concatenated_tensor"
   ]
  },
  {
   "cell_type": "code",
   "execution_count": 15,
   "id": "bfd35848",
   "metadata": {},
   "outputs": [
    {
     "data": {
      "text/plain": [
       "MAPTensor(-0.0048)"
      ]
     },
     "execution_count": 15,
     "metadata": {},
     "output_type": "execute_result"
    }
   ],
   "source": [
    "torchhd.cosine_similarity(usa, mex)"
   ]
  }
 ],
 "metadata": {
  "kernelspec": {
   "display_name": "hdc",
   "language": "python",
   "name": "python3"
  },
  "language_info": {
   "codemirror_mode": {
    "name": "ipython",
    "version": 3
   },
   "file_extension": ".py",
   "mimetype": "text/x-python",
   "name": "python",
   "nbconvert_exporter": "python",
   "pygments_lexer": "ipython3",
   "version": "3.12.7"
  }
 },
 "nbformat": 4,
 "nbformat_minor": 5
}
