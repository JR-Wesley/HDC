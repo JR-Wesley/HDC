{
 "cells": [
  {
   "cell_type": "code",
   "execution_count": null,
   "metadata": {},
   "outputs": [
    {
     "data": {
      "text/plain": [
       "7"
      ]
     },
     "execution_count": 1,
     "metadata": {},
     "output_type": "execute_result"
    }
   ],
   "source": [
    "import math\n",
    "\n",
    "\n",
    "dim = 1024\n",
    "# number of HVs to add in a sample\n",
    "num = 128\n",
    "\n",
    "dw_am_sample = math.ceil(math.log2(num))\n",
    "dw_am_sample"
   ]
  },
  {
   "cell_type": "code",
   "execution_count": null,
   "metadata": {},
   "outputs": [
    {
     "data": {
      "text/plain": [
       "8"
      ]
     },
     "execution_count": 3,
     "metadata": {},
     "output_type": "execute_result"
    }
   ],
   "source": [
    "m = 256\n",
    "\n",
    "# sample \n",
    "dw_am = math.ceil(math.log2(m))\n",
    "dw_am"
   ]
  },
  {
   "cell_type": "code",
   "execution_count": 1,
   "metadata": {},
   "outputs": [],
   "source": [
    "# logic = 0b1001\n",
    "logic = 9"
   ]
  },
  {
   "cell_type": "code",
   "execution_count": 4,
   "metadata": {},
   "outputs": [
    {
     "data": {
      "text/plain": [
       "tensor(9, dtype=torch.int32)"
      ]
     },
     "execution_count": 4,
     "metadata": {},
     "output_type": "execute_result"
    }
   ],
   "source": [
    "import torch\n",
    "\n",
    "ten = torch.tensor(logic, dtype=torch.int32)\n",
    "ten"
   ]
  },
  {
   "cell_type": "code",
   "execution_count": 9,
   "metadata": {},
   "outputs": [
    {
     "name": "stdout",
     "output_type": "stream",
     "text": [
      "4\n"
     ]
    }
   ],
   "source": [
    "# 假设我们有一个由0和1构成的torch.tensor\n",
    "binary_tensor = torch.tensor([1, 0, 1, 1, 0, 1], dtype=torch.uint8)\n",
    "\n",
    "# 将二进制张量转换为整数\n",
    "integer = binary_tensor.sum().item()\n",
    "\n",
    "print(integer)  # 输出整数"
   ]
  },
  {
   "cell_type": "code",
   "execution_count": 42,
   "metadata": {},
   "outputs": [
    {
     "name": "stdout",
     "output_type": "stream",
     "text": [
      "tensor([0, 0, 0, 0, 0, 1, 0, 1], dtype=torch.uint8)\n"
     ]
    }
   ],
   "source": [
    "def int_to_tensor(number, bits):\n",
    "    \"\"\"\n",
    "    Convert an integer to a binary torch.tensor.\n",
    "    \n",
    "    Parameters:\n",
    "    number (int): The integer to convert.\n",
    "    bits (int): The number of bits to represent the integer.\n",
    "    \n",
    "    Returns:\n",
    "    torch.Tensor: A 1D tensor containing only 0s and 1s representing the integer.\n",
    "    \"\"\"\n",
    "    return torch.tensor([((number >> i) & 1) for i in range(bits - 1, -1, -1)], dtype=torch.uint8)\n",
    "\n",
    "# Example usage:\n",
    "number = 5  # Decimal number\n",
    "bits = 10  # Number of bits to represent the number\n",
    "binary_tensor = int_to_tensor(number, bits)\n",
    "print(binary_tensor[-8:])  # Output: tensor([1, 0, 1, 1, 0, 1])"
   ]
  },
  {
   "cell_type": "code",
   "execution_count": 79,
   "metadata": {},
   "outputs": [],
   "source": [
    "import torch\n",
    "\n",
    "def binary_string_to_tensor(binary_str):\n",
    "    \"\"\"\n",
    "    Convert a binary string to a torch.tensor.\n",
    "    \n",
    "    Parameters:\n",
    "    binary_str (str): A binary string starting with '0b'.\n",
    "    \n",
    "    Returns:\n",
    "    torch.Tensor: A tensor containing the binary digits.\n",
    "    \"\"\"\n",
    "    # 去除二进制字符串的前缀'0b'\n",
    "    binary_str = binary_str[2:]\n",
    "    # 将字符串转换为整数列表\n",
    "    binary_list = [int(bit) for bit in binary_str]\n",
    "    # 创建张量\n",
    "    tensor = torch.tensor(binary_list, dtype=torch.int8)\n",
    "    return tensor"
   ]
  },
  {
   "cell_type": "code",
   "execution_count": 84,
   "metadata": {},
   "outputs": [
    {
     "name": "stdout",
     "output_type": "stream",
     "text": [
      "tensor([0, 1, 0, 1, 0, 0, 0, 0, 1, 1, 1, 1], dtype=torch.int8)\n"
     ]
    },
    {
     "data": {
      "text/plain": [
       "('0b010100001111', 1295)"
      ]
     },
     "execution_count": 84,
     "metadata": {},
     "output_type": "execute_result"
    }
   ],
   "source": [
    "def tensor2binStr(tensor):\n",
    "    \"\"\"\n",
    "    Function\n",
    "    ===\n",
    "    Convert a torch.tensor containing binary digits to a binary string.\n",
    "    \n",
    "    Parameter\n",
    "    ---\n",
    "    tensor (torch.Tensor): A 1D tensor containing only 0s and 1s.\n",
    "    \n",
    "    Return\n",
    "    ---\n",
    "    str: A binary string representation of the tensor.\n",
    "    \"\"\"\n",
    "    # 将tensor转换为Python列表\n",
    "    binary_list = tensor.tolist()\n",
    "    # 将列表中的每个数字转换为字符串\n",
    "    binary_str_list = [str(bit) for bit in binary_list]\n",
    "    # 将反转后的字符串列表连接成一个字符串\n",
    "    binary_str = ''.join(binary_str_list)\n",
    "    # 在字符串前加上'0b'前缀\n",
    "    return '0b' + binary_str\n",
    "\n",
    "# 示例使用\n",
    "binary_str = '0b010100001111'\n",
    "tensor = binary_string_to_tensor(binary_str)\n",
    "print(tensor)  # 输出: tensor([0, 1, 0, 1])\n",
    "tensor2binStr(tensor), int(tensor2binStr(tensor), 2)"
   ]
  },
  {
   "cell_type": "code",
   "execution_count": null,
   "metadata": {},
   "outputs": [
    {
     "name": "stdout",
     "output_type": "stream",
     "text": [
      "test_func_time took 0.0008377590002055513 seconds to execute.\n",
      "test_func_time took 5.7981000281870365e-05 seconds to execute.\n"
     ]
    }
   ],
   "source": [
    "import time\n",
    "from functools import wraps\n",
    "\n",
    "def time_decorator(func):\n",
    "    @wraps(func)\n",
    "    def wrapper(*args, **kwargs):\n",
    "        start_time = time.perf_counter()\n",
    "        result = func(*args, **kwargs)\n",
    "        end_time = time.perf_counter()\n",
    "        print(f\"{func.__name__} took {end_time - start_time} seconds to execute.\")\n",
    "        return result\n",
    "    return wrapper\n",
    "\n",
    "@time_decorator\n",
    "def test_func_time(func, *args, **kwargs):\n",
    "    \"\"\"\n",
    "    Function\n",
    "    ===\n",
    "    test the time for a function\n",
    "\n",
    "    Parameter\n",
    "    ---\n",
    "    the function name and its parameters\n",
    "    \"\"\"\n",
    "    func(*args, **kwargs)"
   ]
  },
  {
   "cell_type": "code",
   "execution_count": 5,
   "metadata": {},
   "outputs": [
    {
     "data": {
      "image/png": "[encoded data removed]",
      "text/plain": [
       "<Figure size 1000x600 with 1 Axes>"
      ]
     },
     "metadata": {},
     "output_type": "display_data"
    }
   ],
   "source": [
    "import numpy as np\n",
    "import matplotlib.pyplot as plt\n",
    "\n",
    "# 设置随机种子以确保结果可重复\n",
    "np.random.seed(42)\n",
    "\n",
    "# 参数设置\n",
    "n = 7  # 每次试验中伯努利随机变量的数量\n",
    "num_trials = 10000  # 试验次数\n",
    "\n",
    "# 生成数据：每次试验是n个伯努利随机变量的和\n",
    "sums = np.sum(np.random.binomial(1, 0.5, (num_trials, n)), axis=1)\n",
    "\n",
    "# 绘制直方图\n",
    "plt.figure(figsize=(10, 6))\n",
    "plt.hist(sums, bins=np.arange(min(sums), max(sums)+2) - 0.5, edgecolor='black', density=True, alpha=0.7)\n",
    "plt.title(f'Distribution of Sum of {n} Bernoulli Random Variables')\n",
    "plt.xlabel('Sum')\n",
    "plt.ylabel('Probability Density')\n",
    "\n",
    "# 计算理论上的二项分布概率密度函数值\n",
    "from scipy.stats import binom\n",
    "x = np.arange(0, n+1)\n",
    "y = binom.pmf(x, n, 0.5)\n",
    "plt.plot(x, y, 'ro-', lw=2, label=f'Theoretical Binomial Distribution B({n}, 0.5)')\n",
    "plt.legend()\n",
    "plt.grid(True)\n",
    "plt.show()\n"
   ]
  },
  {
   "cell_type": "code",
   "execution_count": null,
   "metadata": {},
   "outputs": [],
   "source": []
  }
 ],
 "metadata": {
  "kernelspec": {
   "display_name": "hdc",
   "language": "python",
   "name": "python3"
  },
  "language_info": {
   "codemirror_mode": {
    "name": "ipython",
    "version": 3
   },
   "file_extension": ".py",
   "mimetype": "text/x-python",
   "name": "python",
   "nbconvert_exporter": "python",
   "pygments_lexer": "ipython3",
   "version": "3.12.7"
  }
 },
 "nbformat": 4,
 "nbformat_minor": 2
}
