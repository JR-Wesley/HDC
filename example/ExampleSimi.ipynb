{
 "cells": [
  {
   "cell_type": "code",
   "execution_count": 5,
   "metadata": {},
   "outputs": [],
   "source": [
    "import torch\n",
    "import torch.nn.functional as F\n",
    "\n",
    "dim = 4096"
   ]
  },
  {
   "cell_type": "markdown",
   "metadata": {},
   "source": [
    "# 相似性度量\n",
    "\n",
    "Hamming & cosine"
   ]
  },
  {
   "cell_type": "code",
   "execution_count": 2,
   "metadata": {},
   "outputs": [],
   "source": [
    "def similarity(hv1, hv2, stype):\n",
    "    if stype == 'cos':\n",
    "        return F.cosine_similarity(hv1.float(), hv2.float(), dim=0)\n",
    "    elif stype == 'ham':\n",
    "        ham = hv1 ^ hv2\n",
    "        return torch.sum(ham != 0)\n"
   ]
  },
  {
   "cell_type": "code",
   "execution_count": 3,
   "metadata": {},
   "outputs": [
    {
     "data": {
      "text/plain": [
       "(tensor([ 1.0000, -0.3333]), tensor(1.0000), torch.int64)"
      ]
     },
     "execution_count": 3,
     "metadata": {},
     "output_type": "execute_result"
    }
   ],
   "source": [
    "v1 = torch.tensor([1, 1, 1]).to(torch.float)\n",
    "v2 = torch.tensor(\n",
    "    [[1, 1, 1],\n",
    "     [1, -1, -1]]\n",
    ").to(torch.float)\n",
    "simi = F.cosine_similarity(v1, v2)\n",
    "simi, torch.max(simi), torch.argmax(simi).dtype"
   ]
  },
  {
   "cell_type": "markdown",
   "metadata": {},
   "source": [
    "## 两种相似度量的关系\n",
    "\n",
    "证明对于 bipolar {-1, 1} 来说，Hamming 和 cos 有线性关系\n",
    "$$\n",
    "cos(H_1, H_2) = 1 - 2/D_{hv} Hamming(H_1, H_2)\n",
    "$$"
   ]
  },
  {
   "cell_type": "code",
   "execution_count": 6,
   "metadata": {},
   "outputs": [
    {
     "data": {
      "text/plain": [
       "(0.0087890625, 0.0087890625, 2030)"
      ]
     },
     "execution_count": 6,
     "metadata": {},
     "output_type": "execute_result"
    }
   ],
   "source": [
    "vech1 = torch.randint(low=0, high=2, size=(dim, )) * 2 - 1\n",
    "vech2 = torch.randint(low=0, high=2, size=(dim, )) * 2 - 1\n",
    "\n",
    "cos_simi = similarity(vech1, vech2, stype='cos')\n",
    "ham_simi = similarity(vech1, vech2, stype='ham')\n",
    "\n",
    "cos_simi.item(), 1 - 2/dim * ham_simi.item(), ham_simi.item()"
   ]
  },
  {
   "cell_type": "markdown",
   "metadata": {},
   "source": [
    "## bipolar 和 binary"
   ]
  },
  {
   "cell_type": "markdown",
   "metadata": {},
   "source": [
    "热力图表示相似度"
   ]
  },
  {
   "cell_type": "code",
   "execution_count": 7,
   "metadata": {},
   "outputs": [],
   "source": [
    "number = 8\n",
    "dimension = 1024\n",
    "rand_vec = torch.randint(0, 2, (8, 1024)) * 2 - 1"
   ]
  },
  {
   "cell_type": "code",
   "execution_count": 8,
   "metadata": {},
   "outputs": [
    {
     "data": {
      "text/plain": [
       "tensor([1., 1., 1., 1., 1., 1., 1., 1.])"
      ]
     },
     "execution_count": 8,
     "metadata": {},
     "output_type": "execute_result"
    }
   ],
   "source": [
    "F.cosine_similarity(rand_vec.float(), rand_vec.float(), dim=1)"
   ]
  },
  {
   "cell_type": "code",
   "execution_count": 9,
   "metadata": {},
   "outputs": [],
   "source": [
    "def inter_cos_simi(hvs1, hvs2, stype='cos'):\n",
    "\n",
    "    \"\"\"\n",
    "    Function\n",
    "    ===\n",
    "\n",
    "    Parameter\n",
    "    ---\n",
    "    (n, dim) & (m, dim) vector\n",
    "\n",
    "    Return\n",
    "    ---\n",
    "    matrix (n, m)\n",
    "    \"\"\"\n",
    "    dot_product = torch.matmul(hvs1, hvs2.t())\n",
    "    \n",
    "    norms1 = torch.norm(hvs1, dim=1, keepdim=True)\n",
    "    norms2 = torch.norm(hvs2, dim=1, keepdim=True)\n",
    "    \n",
    "    return dot_product / (norms1 @ norms2.t())\n",
    "\n",
    "\n",
    "vec_simi = inter_cos_simi(rand_vec.float(), rand_vec.float(), stype='cos')"
   ]
  },
  {
   "cell_type": "code",
   "execution_count": 10,
   "metadata": {},
   "outputs": [
    {
     "data": {
      "image/png": "[encoded data removed]",
      "text/plain": [
       "<Figure size 500x500 with 2 Axes>"
      ]
     },
     "metadata": {},
     "output_type": "display_data"
    }
   ],
   "source": [
    "import matplotlib.pyplot as plt\n",
    "\n",
    "# 创建一个图形窗口\n",
    "fig, axs = plt.subplots(1, 1, figsize = (5, 5))\n",
    "\n",
    "# 绘制第一个热力图\n",
    "cax1 = axs.imshow(vec_simi, origin = 'lower', cmap = 'viridis')  # 'hot'是颜色映射，可以根据需要选择其他颜色映射\n",
    "axs.set_title('random')\n",
    "\n",
    "\n",
    "# 创建一个空的子图用于颜色条\n",
    "cax = fig.add_axes([0.12, 0.95, 0.76, 0.05])  # [left, bottom, width, height]\n",
    "# 添加颜色条\n",
    "cbar = fig.colorbar(cax1, cax = cax, orientation='horizontal')\n",
    "\n",
    "# 设置颜色条的位置\n",
    "cbar.set_label('Colorbar Label')\n",
    "\n",
    "# 调整子图之间的间距，为颜色条腾出空间\n",
    "plt.subplots_adjust(top = 0.8)\n",
    "plt.title(\"the distance between hypervectors\")\n",
    "plt.show()"
   ]
  }
 ],
 "metadata": {
  "kernelspec": {
   "display_name": "hdc",
   "language": "python",
   "name": "python3"
  },
  "language_info": {
   "codemirror_mode": {
    "name": "ipython",
    "version": 3
   },
   "file_extension": ".py",
   "mimetype": "text/x-python",
   "name": "python",
   "nbconvert_exporter": "python",
   "pygments_lexer": "ipython3",
   "version": "3.12.2"
  }
 },
 "nbformat": 4,
 "nbformat_minor": 2
}
